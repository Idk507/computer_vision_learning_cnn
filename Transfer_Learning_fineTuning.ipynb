{
  "cells": [
    {
      "cell_type": "markdown",
      "metadata": {
        "id": "view-in-github",
        "colab_type": "text"
      },
      "source": [
        "<a href=\"https://colab.research.google.com/github/Idk507/computer_vision_learning_cnn/blob/main/Transfer_Learning_fineTuning.ipynb\" target=\"_parent\"><img src=\"https://colab.research.google.com/assets/colab-badge.svg\" alt=\"Open In Colab\"/></a>"
      ]
    },
    {
      "cell_type": "code",
      "execution_count": 33,
      "metadata": {
        "id": "mNG9vS0q-KOB"
      },
      "outputs": [],
      "source": [
        "import tensorflow as tf\n",
        "from tensorflow.keras import models"
      ]
    },
    {
      "cell_type": "code",
      "execution_count": 34,
      "metadata": {
        "colab": {
          "base_uri": "https://localhost:8080/"
        },
        "id": "-qm4T7n--TSD",
        "outputId": "ee244a51-36ae-43a5-e829-4b4dfca29889"
      },
      "outputs": [
        {
          "output_type": "stream",
          "name": "stdout",
          "text": [
            "--2024-02-04 08:34:45--  https://raw.githubusercontent.com/mrdbourke/tensorflow-deep-learning/main/extras/helper_functions.py\n",
            "Resolving raw.githubusercontent.com (raw.githubusercontent.com)... 185.199.110.133, 185.199.111.133, 185.199.109.133, ...\n",
            "Connecting to raw.githubusercontent.com (raw.githubusercontent.com)|185.199.110.133|:443... connected.\n",
            "HTTP request sent, awaiting response... 200 OK\n",
            "Length: 10246 (10K) [text/plain]\n",
            "Saving to: ‘helper_functions.py.1’\n",
            "\n",
            "\rhelper_functions.py   0%[                    ]       0  --.-KB/s               \rhelper_functions.py 100%[===================>]  10.01K  --.-KB/s    in 0s      \n",
            "\n",
            "2024-02-04 08:34:45 (42.0 MB/s) - ‘helper_functions.py.1’ saved [10246/10246]\n",
            "\n"
          ]
        }
      ],
      "source": [
        "!wget https://raw.githubusercontent.com/mrdbourke/tensorflow-deep-learning/main/extras/helper_functions.py\n",
        "\n",
        "# Import helper functions we're going to use\n",
        "from helper_functions import create_tensorboard_callback, plot_loss_curves, unzip_data, walk_through_dir"
      ]
    },
    {
      "cell_type": "code",
      "execution_count": 35,
      "metadata": {
        "colab": {
          "base_uri": "https://localhost:8080/"
        },
        "id": "aQTgAQzn_u_X",
        "outputId": "039bd48d-56be-48c6-9b0a-5a80dae4e500"
      },
      "outputs": [
        {
          "output_type": "stream",
          "name": "stdout",
          "text": [
            "--2024-02-04 08:34:46--  https://storage.googleapis.com/ztm_tf_course/food_vision/10_food_classes_10_percent.zip\n",
            "Resolving storage.googleapis.com (storage.googleapis.com)... 173.194.210.207, 142.251.162.207, 173.194.212.207, ...\n",
            "Connecting to storage.googleapis.com (storage.googleapis.com)|173.194.210.207|:443... connected.\n",
            "HTTP request sent, awaiting response... 200 OK\n",
            "Length: 168546183 (161M) [application/zip]\n",
            "Saving to: ‘10_food_classes_10_percent.zip.1’\n",
            "\n",
            "10_food_classes_10_ 100%[===================>] 160.74M   205MB/s    in 0.8s    \n",
            "\n",
            "2024-02-04 08:34:46 (205 MB/s) - ‘10_food_classes_10_percent.zip.1’ saved [168546183/168546183]\n",
            "\n"
          ]
        }
      ],
      "source": [
        "#downloading the dataset\n",
        "\n",
        "!wget https://storage.googleapis.com/ztm_tf_course/food_vision/10_food_classes_10_percent.zip\n",
        "\n",
        "unzip_data(\"10_food_classes_10_percent.zip\")"
      ]
    },
    {
      "cell_type": "code",
      "execution_count": 36,
      "metadata": {
        "id": "eEakCwqIAvmo"
      },
      "outputs": [],
      "source": [
        "#create training and test directory paths\n",
        "\n",
        "train_dir = \"10_food_classes_10_percent/train\"\n",
        "test_dir = \"10_food_classes_10_percent/test\""
      ]
    },
    {
      "cell_type": "code",
      "execution_count": 37,
      "metadata": {
        "colab": {
          "base_uri": "https://localhost:8080/"
        },
        "id": "Ompy5jAnBOde",
        "outputId": "89a6ce2f-9360-4d99-e3bb-0fe5c527747f"
      },
      "outputs": [
        {
          "output_type": "stream",
          "name": "stdout",
          "text": [
            "Found 750 files belonging to 10 classes.\n"
          ]
        }
      ],
      "source": [
        "#tensorflow image data from directory\n",
        "\"\"\"\n",
        "tf.keras.preprcessing.image.image_dataset_from_directory\n",
        "\n",
        "\"\"\"\n",
        "\n",
        "import tensorflow as tf\n",
        "IMG_SIZE = (224,224)\n",
        "BATCH_SIZE = 32\n",
        "train_data_10_percent = tf.keras.preprocessing.image_dataset_from_directory(directory=train_dir,image_size=(IMG_SIZE),label_mode=\"categorical\",batch_size=32)"
      ]
    },
    {
      "cell_type": "code",
      "execution_count": 38,
      "metadata": {
        "colab": {
          "base_uri": "https://localhost:8080/"
        },
        "id": "Rbh3GLPdB7IF",
        "outputId": "96165e49-a27f-4e5f-8c10-a63f8075f7bc"
      },
      "outputs": [
        {
          "output_type": "stream",
          "name": "stdout",
          "text": [
            "Found 2500 files belonging to 10 classes.\n"
          ]
        }
      ],
      "source": [
        "test_data = tf.keras.preprocessing.image_dataset_from_directory(directory= test_dir,image_size=IMG_SIZE,label_mode=\"categorical\",batch_size=32)"
      ]
    },
    {
      "cell_type": "code",
      "execution_count": 39,
      "metadata": {
        "colab": {
          "base_uri": "https://localhost:8080/"
        },
        "id": "jDhaLS8vCHwN",
        "outputId": "246d6cfb-588d-4717-bf64-935198ca41e1"
      },
      "outputs": [
        {
          "output_type": "execute_result",
          "data": {
            "text/plain": [
              "<_PrefetchDataset element_spec=(TensorSpec(shape=(None, 224, 224, 3), dtype=tf.float32, name=None), TensorSpec(shape=(None, 10), dtype=tf.float32, name=None))>"
            ]
          },
          "metadata": {},
          "execution_count": 39
        }
      ],
      "source": [
        "train_data_10_percent"
      ]
    },
    {
      "cell_type": "code",
      "execution_count": 40,
      "metadata": {
        "colab": {
          "base_uri": "https://localhost:8080/"
        },
        "id": "U-c-OSreCPDl",
        "outputId": "cba36a3a-3406-4172-c79b-34fe76ce882b"
      },
      "outputs": [
        {
          "output_type": "execute_result",
          "data": {
            "text/plain": [
              "['chicken_curry',\n",
              " 'chicken_wings',\n",
              " 'fried_rice',\n",
              " 'grilled_salmon',\n",
              " 'hamburger',\n",
              " 'ice_cream',\n",
              " 'pizza',\n",
              " 'ramen',\n",
              " 'steak',\n",
              " 'sushi']"
            ]
          },
          "metadata": {},
          "execution_count": 40
        }
      ],
      "source": [
        "train_data_10_percent.class_names"
      ]
    },
    {
      "cell_type": "code",
      "execution_count": 41,
      "metadata": {
        "colab": {
          "base_uri": "https://localhost:8080/"
        },
        "id": "GptIp0OBCuHZ",
        "outputId": "af03fd15-6fed-4db3-e60f-7e1423553f7a"
      },
      "outputs": [
        {
          "output_type": "stream",
          "name": "stdout",
          "text": [
            "tf.Tensor(\n",
            "[[[[ 70.30102   164.0153    208.57143  ]\n",
            "   [110.09184   197.30612   225.2602   ]\n",
            "   [118.07143   199.64287   211.42857  ]\n",
            "   ...\n",
            "   [197.0051    207.21936    76.86215  ]\n",
            "   [192.85713   200.92857    62.622395 ]\n",
            "   [193.00008   202.00008    58.285713 ]]\n",
            "\n",
            "  [[ 46.79082   142.21939   189.95918  ]\n",
            "   [ 91.637764  180.85715   211.64285  ]\n",
            "   [103.16837   184.82654   198.29593  ]\n",
            "   ...\n",
            "   [193.3724    203.58667    71.21416  ]\n",
            "   [186.01021   197.01021    57.943855 ]\n",
            "   [189.88272   201.8113     58.117413 ]]\n",
            "\n",
            "  [[ 36.9949    134.13776   190.13266  ]\n",
            "   [ 78.81633   168.9439    204.05612  ]\n",
            "   [ 87.92857   170.7143    187.04591  ]\n",
            "   ...\n",
            "   [191.85707   203.47443    69.78053  ]\n",
            "   [187.71431   197.9286     62.27043  ]\n",
            "   [195.21439   205.42868    69.41846  ]]\n",
            "\n",
            "  ...\n",
            "\n",
            "  [[226.28574   220.28574   206.28574  ]\n",
            "   [231.03062   225.03062   211.03062  ]\n",
            "   [237.81123   231.81123   217.81123  ]\n",
            "   ...\n",
            "   [223.38264   233.38264   235.38264  ]\n",
            "   [222.92856   232.92856   234.92856  ]\n",
            "   [222.        232.        234.       ]]\n",
            "\n",
            "  [[230.1684    224.1684    210.1684   ]\n",
            "   [230.20404   224.20404   210.20404  ]\n",
            "   [237.89795   231.89795   217.89795  ]\n",
            "   ...\n",
            "   [224.19896   234.19896   236.19896  ]\n",
            "   [223.85715   233.85715   235.85715  ]\n",
            "   [222.92859   232.92859   234.92859  ]]\n",
            "\n",
            "  [[226.64287   220.64287   206.64287  ]\n",
            "   [225.26021   219.26021   205.26021  ]\n",
            "   [235.13777   229.13777   215.13777  ]\n",
            "   ...\n",
            "   [225.64285   235.64285   237.64285  ]\n",
            "   [224.59692   234.59692   236.59692  ]\n",
            "   [223.87244   233.87244   235.87244  ]]]\n",
            "\n",
            "\n",
            " [[[ 21.17347    16.17347    12.403061 ]\n",
            "   [ 20.790817   18.454082   13.4540825]\n",
            "   [ 19.857143   18.637756   14.72449  ]\n",
            "   ...\n",
            "   [ 13.214264   14.         15.571472 ]\n",
            "   [ 14.         14.         13.857117 ]\n",
            "   [ 17.         13.         11.285645 ]]\n",
            "\n",
            "  [[ 18.168367   14.168366   13.739796 ]\n",
            "   [ 19.918367   15.984694   12.984694 ]\n",
            "   [ 20.89796     9.071427    2.6887736]\n",
            "   ...\n",
            "   [ 13.943876   14.         15.173553 ]\n",
            "   [ 14.         14.         13.989794 ]\n",
            "   [ 17.         13.         11.285645 ]]\n",
            "\n",
            "  [[ 15.153061   13.07653    17.219389 ]\n",
            "   [ 17.571426   12.045917    9.530609 ]\n",
            "   [ 38.408165   15.27041     3.8724494]\n",
            "   ...\n",
            "   [ 14.306091   13.954086   15.142944 ]\n",
            "   [ 14.         14.         14.397954 ]\n",
            "   [ 15.561279   13.71936    12.       ]]\n",
            "\n",
            "  ...\n",
            "\n",
            "  [[ 13.77041    12.341882    8.127618 ]\n",
            "   [ 22.469368   17.5561     13.199001 ]\n",
            "   [ 32.454308   16.219666    6.9593787]\n",
            "   ...\n",
            "   [ 48.728718   48.300186   50.514454 ]\n",
            "   [ 18.887915   18.887915   20.887915 ]\n",
            "   [ 16.862236   17.647972   19.647972 ]]\n",
            "\n",
            "  [[ 13.102046   13.219415   12.030657 ]\n",
            "   [ 17.525593   13.734776   10.954189 ]\n",
            "   [ 37.540577   25.770184   19.795736 ]\n",
            "   ...\n",
            "   [ 21.69383    22.862234   24.806099 ]\n",
            "   [ 14.515221   15.928558   17.79078  ]\n",
            "   [ 16.458881   20.458881   21.458881 ]]\n",
            "\n",
            "  [[ 15.484602   16.484602   19.198887 ]\n",
            "   [ 17.275288   14.081473   13.938685 ]\n",
            "   [ 19.918528   12.331875   10.127773 ]\n",
            "   ...\n",
            "   [ 20.459274   24.459274   25.459274 ]\n",
            "   [ 20.382725   24.382725   25.382725 ]\n",
            "   [ 11.888089   15.888089   16.888088 ]]]\n",
            "\n",
            "\n",
            " [[[110.71429   111.71429   105.71429  ]\n",
            "   [111.28571   114.28571   107.28571  ]\n",
            "   [108.505104  113.07653   106.07653  ]\n",
            "   ...\n",
            "   [154.20407   168.20407   169.20407  ]\n",
            "   [150.19382   164.19382   165.19382  ]\n",
            "   [153.72957   169.72957   169.72957  ]]\n",
            "\n",
            "  [[110.71429   111.71429   105.71429  ]\n",
            "   [109.928566  112.928566  105.928566 ]\n",
            "   [107.28571   111.85714   104.85714  ]\n",
            "   ...\n",
            "   [160.9847    171.55614   172.30103  ]\n",
            "   [159.99998   172.14284   172.21426  ]\n",
            "   [157.52042   169.66327   169.7347   ]]\n",
            "\n",
            "  [[112.21938   113.21938   107.21938  ]\n",
            "   [111.28571   114.28571   107.28571  ]\n",
            "   [107.85715   112.42857   105.42857  ]\n",
            "   ...\n",
            "   [136.85716   137.83165   137.76534  ]\n",
            "   [140.48473   140.84187   142.6276   ]\n",
            "   [137.14287   137.50002   139.28572  ]]\n",
            "\n",
            "  ...\n",
            "\n",
            "  [[160.291     171.64821   150.57677  ]\n",
            "   [171.60213   183.67365   165.74509  ]\n",
            "   [180.71432   193.59705   180.1685   ]\n",
            "   ...\n",
            "   [108.40774    37.88756    37.933475 ]\n",
            "   [ 94.67772    29.795364   32.994358 ]\n",
            "   [104.515045   42.438766   49.724472 ]]\n",
            "\n",
            "  [[175.07646   188.71931   166.79074  ]\n",
            "   [180.51532   197.4439    179.94902  ]\n",
            "   [187.18375   206.27048   196.62766  ]\n",
            "   ...\n",
            "   [ 63.82124    14.556041   14.224467 ]\n",
            "   [ 54.28036    15.494837   20.280634 ]\n",
            "   [ 45.33655    13.693822   24.05097  ]]\n",
            "\n",
            "  [[178.25044   189.20445   171.09229  ]\n",
            "   [184.30112   197.70921   186.1838   ]\n",
            "   [189.64279   206.94373   203.29587  ]\n",
            "   ...\n",
            "   [ 56.326805   17.107567   19.546354 ]\n",
            "   [ 30.632763    7.3472404  16.485199 ]\n",
            "   [ 27.407907   12.464061   26.15293  ]]]\n",
            "\n",
            "\n",
            " ...\n",
            "\n",
            "\n",
            " [[[ 23.892857   14.892858   17.178572 ]\n",
            "   [ 20.872448   10.67857    14.275509 ]\n",
            "   [ 30.673473   13.454084   21.112246 ]\n",
            "   ...\n",
            "   [223.48434   195.35168   127.423065 ]\n",
            "   [199.94897   163.78056    93.28053  ]\n",
            "   [204.12767   160.1276     86.18366  ]]\n",
            "\n",
            "  [[ 58.474506   48.025524   55.73471  ]\n",
            "   [ 39.693882   24.979595   31.974493 ]\n",
            "   [118.82653    94.82653   100.62755  ]\n",
            "   ...\n",
            "   [197.73447   154.37732    91.59156  ]\n",
            "   [185.29088   137.77556    71.35205  ]\n",
            "   [186.24469   135.77014    63.984356 ]]\n",
            "\n",
            "  [[123.98981   112.34695   125.48979  ]\n",
            "   [ 27.306107    8.954065   17.045902 ]\n",
            "   [190.91325   157.38774   163.12753  ]\n",
            "   ...\n",
            "   [162.28574   104.663345   46.597008 ]\n",
            "   [173.83676   116.86735    55.93875  ]\n",
            "   [171.46927   112.33153    46.183487 ]]\n",
            "\n",
            "  ...\n",
            "\n",
            "  [[251.78064   246.78064   242.78064  ]\n",
            "   [248.37251   243.37251   239.37251  ]\n",
            "   [248.68375   243.68375   239.68375  ]\n",
            "   ...\n",
            "   [ 15.765238   23.428528    9.025411 ]\n",
            "   [ 18.168343   27.811134   10.025458 ]\n",
            "   [ 28.137917   37.78071    17.423561 ]]\n",
            "\n",
            "  [[252.94891   247.94891   243.94891  ]\n",
            "   [247.92851   242.92851   238.92851  ]\n",
            "   [243.38776   238.38776   234.38776  ]\n",
            "   ...\n",
            "   [ 14.765272   20.765272    9.306068 ]\n",
            "   [ 12.62256    18.688896    4.5562215]\n",
            "   [ 22.066393   29.066393   13.066392 ]]\n",
            "\n",
            "  [[247.32663   242.32663   238.32663  ]\n",
            "   [243.76027   238.76027   234.76027  ]\n",
            "   [247.19913   242.19913   238.19913  ]\n",
            "   ...\n",
            "   [ 14.943825   17.943825    9.096885 ]\n",
            "   [ 18.64784    22.316181    9.311162 ]\n",
            "   [ 20.04104    26.04104    12.04104  ]]]\n",
            "\n",
            "\n",
            " [[[140.83673   142.83673   141.12245  ]\n",
            "   [145.75      149.69899   148.64796  ]\n",
            "   [160.57654   166.57654   164.57654  ]\n",
            "   ...\n",
            "   [ 10.295924   20.010208   16.653067 ]\n",
            "   [  8.163242   17.87753    14.520385 ]\n",
            "   [  5.4999647  15.214251   11.857107 ]]\n",
            "\n",
            "  [[127.14285   132.07144   134.78572  ]\n",
            "   [122.622444  128.47958   128.40816  ]\n",
            "   [163.19897   169.19897   169.05612  ]\n",
            "   ...\n",
            "   [  6.913267    9.056124    8.056124 ]\n",
            "   [  6.0714283   8.214285    7.214285 ]\n",
            "   [  4.8111916   6.954048    5.954048 ]]\n",
            "\n",
            "  [[126.72449   134.15306   140.36734  ]\n",
            "   [115.48469   123.46938   126.515305 ]\n",
            "   [152.89796   158.72958   159.2347   ]\n",
            "   ...\n",
            "   [ 11.525493   11.954064    9.7397785]\n",
            "   [  9.857129   10.285701    8.071415 ]\n",
            "   [  7.4336452   7.862217    5.647931 ]]\n",
            "\n",
            "  ...\n",
            "\n",
            "  [[ 95.63324   100.63324   106.480194 ]\n",
            "   [167.92386   171.92386   181.32178  ]\n",
            "   [191.23482   196.23482   201.80624  ]\n",
            "   ...\n",
            "   [243.18886   173.92868   133.05113  ]\n",
            "   [235.77043   170.85718   133.01537  ]\n",
            "   [236.91847   177.7195    144.78586  ]]\n",
            "\n",
            "  [[139.43384   146.45937   156.5359   ]\n",
            "   [188.44902   193.59187   199.60205  ]\n",
            "   [197.07144   200.34186   204.80103  ]\n",
            "   ...\n",
            "   [235.51534   170.7296    133.15813  ]\n",
            "   [236.07144   170.20923   135.29086  ]\n",
            "   [239.50003   177.33176   147.16347  ]]\n",
            "\n",
            "  [[162.39813   170.27057   182.36754  ]\n",
            "   [191.76532   196.90817   201.19388  ]\n",
            "   [200.70921   204.06636   206.71936  ]\n",
            "   ...\n",
            "   [235.92348   170.92348   132.77042  ]\n",
            "   [237.16338   172.31137   140.59714  ]\n",
            "   [237.84193   179.14307   154.82693  ]]]\n",
            "\n",
            "\n",
            " [[[182.7143    168.7143    157.7143   ]\n",
            "   [186.47449   172.47449   161.47449  ]\n",
            "   [188.78572   174.78572   163.78572  ]\n",
            "   ...\n",
            "   [116.28571   109.50001    81.9286   ]\n",
            "   [118.47453   112.47453    86.47453  ]\n",
            "   [112.65818   108.65818    83.65818  ]]\n",
            "\n",
            "  [[184.2143    170.2143    157.2143   ]\n",
            "   [187.0051    173.0051    160.0051   ]\n",
            "   [189.57143   175.57143   162.57143  ]\n",
            "   ...\n",
            "   [118.        111.214294   85.64288  ]\n",
            "   [118.92859   112.92859    88.92859  ]\n",
            "   [113.38267   109.38267    84.38267  ]]\n",
            "\n",
            "  [[189.42857   175.78572   159.78572  ]\n",
            "   [189.2296    175.58673   159.58673  ]\n",
            "   [189.59694   175.95409   159.95409  ]\n",
            "   ...\n",
            "   [121.38266   113.81125    90.596954 ]\n",
            "   [123.658195  117.658195   93.658195 ]\n",
            "   [120.85205   116.85205    91.85205  ]]\n",
            "\n",
            "  ...\n",
            "\n",
            "  [[125.22456   111.58177    96.07152  ]\n",
            "   [117.80109   101.87251    85.658226 ]\n",
            "   [108.71938    93.38268    72.9796   ]\n",
            "   ...\n",
            "   [ 36.0918     26.188768   21.617388 ]\n",
            "   [ 34.51524    24.198963   21.785736 ]\n",
            "   [ 38.94901    28.22455    25.872547 ]]\n",
            "\n",
            "  [[119.69381   106.69381    89.69381  ]\n",
            "   [124.43877   109.43877    90.43877  ]\n",
            "   [110.15817    95.15817    74.58674  ]\n",
            "   ...\n",
            "   [ 39.443897   29.413279   27.642883 ]\n",
            "   [ 41.86735    31.857147   30.86225  ]\n",
            "   [ 39.479557   29.428528   28.596926 ]]\n",
            "\n",
            "  [[111.10191    98.10191    80.84679  ]\n",
            "   [117.484566  104.55599    85.34171  ]\n",
            "   [111.97974    97.6226     76.40831  ]\n",
            "   ...\n",
            "   [ 38.33672    25.132563   25.775446 ]\n",
            "   [ 38.709126   25.499878   27.90296  ]\n",
            "   [ 39.806297   26.046017   28.632776 ]]]], shape=(32, 224, 224, 3), dtype=float32) tf.Tensor(\n",
            "[[0. 1. 0. 0. 0. 0. 0. 0. 0. 0.]\n",
            " [1. 0. 0. 0. 0. 0. 0. 0. 0. 0.]\n",
            " [0. 0. 0. 0. 1. 0. 0. 0. 0. 0.]\n",
            " [1. 0. 0. 0. 0. 0. 0. 0. 0. 0.]\n",
            " [1. 0. 0. 0. 0. 0. 0. 0. 0. 0.]\n",
            " [0. 0. 0. 0. 0. 0. 1. 0. 0. 0.]\n",
            " [1. 0. 0. 0. 0. 0. 0. 0. 0. 0.]\n",
            " [0. 0. 0. 0. 1. 0. 0. 0. 0. 0.]\n",
            " [0. 0. 0. 0. 0. 0. 0. 1. 0. 0.]\n",
            " [0. 1. 0. 0. 0. 0. 0. 0. 0. 0.]\n",
            " [0. 0. 0. 1. 0. 0. 0. 0. 0. 0.]\n",
            " [0. 0. 1. 0. 0. 0. 0. 0. 0. 0.]\n",
            " [0. 0. 1. 0. 0. 0. 0. 0. 0. 0.]\n",
            " [0. 0. 0. 0. 0. 0. 0. 0. 0. 1.]\n",
            " [0. 0. 0. 0. 1. 0. 0. 0. 0. 0.]\n",
            " [1. 0. 0. 0. 0. 0. 0. 0. 0. 0.]\n",
            " [0. 1. 0. 0. 0. 0. 0. 0. 0. 0.]\n",
            " [0. 0. 0. 0. 0. 1. 0. 0. 0. 0.]\n",
            " [0. 0. 1. 0. 0. 0. 0. 0. 0. 0.]\n",
            " [0. 0. 0. 0. 0. 1. 0. 0. 0. 0.]\n",
            " [0. 0. 0. 0. 0. 0. 1. 0. 0. 0.]\n",
            " [0. 0. 0. 0. 0. 0. 0. 0. 1. 0.]\n",
            " [0. 0. 0. 0. 1. 0. 0. 0. 0. 0.]\n",
            " [0. 0. 1. 0. 0. 0. 0. 0. 0. 0.]\n",
            " [0. 0. 0. 0. 0. 0. 0. 1. 0. 0.]\n",
            " [0. 1. 0. 0. 0. 0. 0. 0. 0. 0.]\n",
            " [0. 1. 0. 0. 0. 0. 0. 0. 0. 0.]\n",
            " [0. 0. 0. 0. 1. 0. 0. 0. 0. 0.]\n",
            " [0. 0. 0. 1. 0. 0. 0. 0. 0. 0.]\n",
            " [0. 0. 0. 0. 1. 0. 0. 0. 0. 0.]\n",
            " [0. 0. 0. 0. 0. 0. 0. 0. 0. 1.]\n",
            " [0. 1. 0. 0. 0. 0. 0. 0. 0. 0.]], shape=(32, 10), dtype=float32)\n"
          ]
        }
      ],
      "source": [
        "#see an example of batch of data\n",
        "\n",
        "for images,labels in train_data_10_percent.take(1):\n",
        "  print(images,labels)"
      ]
    },
    {
      "cell_type": "code",
      "execution_count": 41,
      "metadata": {
        "id": "C_N_atBBC5f3"
      },
      "outputs": [],
      "source": []
    },
    {
      "cell_type": "code",
      "execution_count": 42,
      "metadata": {
        "colab": {
          "base_uri": "https://localhost:8080/"
        },
        "id": "6mXEAjduJMoh",
        "outputId": "532a6a61-e8bf-4099-fdc8-d7162536a8e6"
      },
      "outputs": [
        {
          "output_type": "stream",
          "name": "stdout",
          "text": [
            "(None, 7, 7, 1280)\n"
          ]
        }
      ],
      "source": [
        "base_model = tf.keras.applications.EfficientNetB0(include_top=False)\n",
        "\n",
        "#Freeze the base model (so inderlying the pretrained patters aren't updates)\n",
        "\n",
        "base_model.trainable = False\n",
        "\n",
        "inputs = tf.keras.layers.Input(shape=(224,224,3),name=\"input_layer\")\n",
        "\n",
        "#Using ResNet50V2 ,normalize inputs not for efficient\n",
        "\n",
        "#x = tf.keras.layers.experimental.preprocessing.Rescaling(1./255)(inputs)\n",
        "\n",
        "#Pass the inputs to the base model\n",
        "\n",
        "x = base_model(inputs)\n",
        "print(x.shape)\n",
        "\n",
        "#average pool the outputs of the base model\n",
        "\n",
        "x = tf.keras.layers.GlobalAveragePooling2D(name=\"global_average_pooling_layer\")(x)\n",
        "\n",
        "#output_layer\n",
        "outputs = tf.keras.layers.Dense(10,activation=\"softmax\",name=\"output_layer\")(x)\n",
        "\n",
        "#compile the model\n",
        "\n",
        "model_0 = tf.keras.Model(inputs,outputs)\n",
        "model_0.compile(loss=\"categorical_crossentropy\",optimizer=tf.keras.optimizers.Adam(),metrics=[\"accuracy\"])"
      ]
    },
    {
      "cell_type": "code",
      "execution_count": 43,
      "metadata": {
        "colab": {
          "base_uri": "https://localhost:8080/"
        },
        "id": "hHiyeBt_C-ES",
        "outputId": "35a37b1e-7530-466e-f224-360671b366a9"
      },
      "outputs": [
        {
          "output_type": "stream",
          "name": "stdout",
          "text": [
            "Epoch 1/5\n",
            "24/24 [==============================] - 192s 7s/step - loss: 1.8499 - accuracy: 0.4480 - val_loss: 1.2931 - val_accuracy: 0.7352\n",
            "Epoch 2/5\n",
            "24/24 [==============================] - 98s 4s/step - loss: 1.0848 - accuracy: 0.7667 - val_loss: 0.8785 - val_accuracy: 0.8207\n",
            "Epoch 3/5\n",
            "24/24 [==============================] - 141s 6s/step - loss: 0.7832 - accuracy: 0.8280 - val_loss: 0.6990 - val_accuracy: 0.8503\n",
            "Epoch 4/5\n",
            "24/24 [==============================] - 135s 6s/step - loss: 0.6444 - accuracy: 0.8547 - val_loss: 0.5941 - val_accuracy: 0.8668\n",
            "Epoch 5/5\n",
            "24/24 [==============================] - 132s 6s/step - loss: 0.5483 - accuracy: 0.8773 - val_loss: 0.5513 - val_accuracy: 0.8651\n"
          ]
        }
      ],
      "source": [
        "history_10_percent = model_0.fit(train_data_10_percent,epochs=5,steps_per_epoch=len(train_data_10_percent),validation_data = test_data,validation_steps=int(0.25 * len(test_data)))"
      ]
    },
    {
      "cell_type": "code",
      "execution_count": 44,
      "metadata": {
        "colab": {
          "base_uri": "https://localhost:8080/"
        },
        "id": "6wsOqEOrC-HB",
        "outputId": "bf26baec-ca9d-4461-ba62-c340e61ad78c"
      },
      "outputs": [
        {
          "output_type": "stream",
          "name": "stdout",
          "text": [
            "Model: \"model_1\"\n",
            "_________________________________________________________________\n",
            " Layer (type)                Output Shape              Param #   \n",
            "=================================================================\n",
            " input_layer (InputLayer)    [(None, 224, 224, 3)]     0         \n",
            "                                                                 \n",
            " efficientnetb0 (Functional  (None, None, None, 1280   4049571   \n",
            " )                           )                                   \n",
            "                                                                 \n",
            " global_average_pooling_lay  (None, 1280)              0         \n",
            " er (GlobalAveragePooling2D                                      \n",
            " )                                                               \n",
            "                                                                 \n",
            " output_layer (Dense)        (None, 10)                12810     \n",
            "                                                                 \n",
            "=================================================================\n",
            "Total params: 4062381 (15.50 MB)\n",
            "Trainable params: 12810 (50.04 KB)\n",
            "Non-trainable params: 4049571 (15.45 MB)\n",
            "_________________________________________________________________\n"
          ]
        }
      ],
      "source": [
        "model_0.summary()"
      ]
    },
    {
      "cell_type": "code",
      "execution_count": 45,
      "metadata": {
        "id": "hZ6pprS0C-KN"
      },
      "outputs": [],
      "source": [
        "#base_model.summary()"
      ]
    },
    {
      "cell_type": "code",
      "execution_count": 65,
      "metadata": {
        "colab": {
          "base_uri": "https://localhost:8080/"
        },
        "id": "eGiiXzqQC-Nv",
        "outputId": "8f97deeb-0433-4c9e-b906-7c990af019f7"
      },
      "outputs": [
        {
          "output_type": "stream",
          "name": "stdout",
          "text": [
            "79/79 [==============================] - 194s 2s/step - loss: 0.5553 - accuracy: 0.8644\n"
          ]
        },
        {
          "output_type": "execute_result",
          "data": {
            "text/plain": [
              "[0.5553272366523743, 0.8644000291824341]"
            ]
          },
          "metadata": {},
          "execution_count": 65
        }
      ],
      "source": [
        "model_0.evaluate(test_data)"
      ]
    },
    {
      "cell_type": "code",
      "execution_count": 47,
      "metadata": {
        "id": "SsDhySyKC-RB"
      },
      "outputs": [],
      "source": [
        "#for layer_number,layer in enumerate(base_model.layers):\n",
        "  #print(layer_number,layer.name)"
      ]
    },
    {
      "cell_type": "code",
      "execution_count": 48,
      "metadata": {
        "colab": {
          "base_uri": "https://localhost:8080/",
          "height": 927
        },
        "id": "sm-bqAOyMSGr",
        "outputId": "2feed5c7-7ca1-4a2c-c615-b8d895b69be8"
      },
      "outputs": [
        {
          "output_type": "display_data",
          "data": {
            "text/plain": [
              "<Figure size 640x480 with 1 Axes>"
            ],
            "image/png": "[encoded data removed]"
          },
          "metadata": {}
        },
        {
          "output_type": "display_data",
          "data": {
            "text/plain": [
              "<Figure size 640x480 with 1 Axes>"
            ],
            "image/png": "[encoded data removed]"
          },
          "metadata": {}
        }
      ],
      "source": [
        "plot_loss_curves(history_10_percent)"
      ]
    },
    {
      "cell_type": "markdown",
      "metadata": {
        "id": "DOvfXFgrOBOI"
      },
      "source": [
        "Global Average Pooling Layer"
      ]
    },
    {
      "cell_type": "code",
      "execution_count": 49,
      "metadata": {
        "colab": {
          "base_uri": "https://localhost:8080/"
        },
        "id": "0kQKIfX3NDeg",
        "outputId": "1e259c41-c6c9-4d91-aaf6-fa9045aff780"
      },
      "outputs": [
        {
          "output_type": "execute_result",
          "data": {
            "text/plain": [
              "(TensorShape([1, 4, 4, 3]), TensorShape([1, 3]))"
            ]
          },
          "metadata": {},
          "execution_count": 49
        }
      ],
      "source": [
        "input_shape = (1,4,4,3)\n",
        "\n",
        "input_tensor = tf.random.normal(input_shape)\n",
        "#input_tensor\n",
        "#pass the rndom tensor to Global Avg pool\n",
        "global_average_pooled_tensor = tf.keras.layers.GlobalAveragePooling2D()(input_tensor)\n",
        "\n",
        "global_average_pooled_tensor\n",
        "\n",
        "#check the shape\n",
        "\n",
        "input_tensor.shape , global_average_pooled_tensor.shape"
      ]
    },
    {
      "cell_type": "code",
      "execution_count": 50,
      "metadata": {
        "colab": {
          "base_uri": "https://localhost:8080/"
        },
        "id": "fW2n5jAhOASN",
        "outputId": "1315b11f-41dc-4df3-86df-a9c307cdd65a"
      },
      "outputs": [
        {
          "output_type": "execute_result",
          "data": {
            "text/plain": [
              "<tf.Tensor: shape=(1, 3), dtype=float32, numpy=array([[-0.4146148 , -0.2913772 ,  0.33445588]], dtype=float32)>"
            ]
          },
          "metadata": {},
          "execution_count": 50
        }
      ],
      "source": [
        "#lets replicate the global average pool2d layers\n",
        "\n",
        "tf.reduce_mean(input_tensor,axis=[1,2])\n"
      ]
    },
    {
      "cell_type": "code",
      "execution_count": 51,
      "metadata": {
        "colab": {
          "base_uri": "https://localhost:8080/",
          "height": 53
        },
        "id": "l3KHPezCPrib",
        "outputId": "553b4f99-8b0e-4dca-c878-bbf3816c9b19"
      },
      "outputs": [
        {
          "output_type": "execute_result",
          "data": {
            "text/plain": [
              "'\\nmodel 1 - feature extraction transfer learning with 1% of training data with data augumentation\\nmodel 2 - feature extraction transfer learning with 10% of the training with data augumentaion\\nmodel3-use fine tuning transfer learning on 100% of training data\\nmodel 4 - same as model3\\n'"
            ],
            "application/vnd.google.colaboratory.intrinsic+json": {
              "type": "string"
            }
          },
          "metadata": {},
          "execution_count": 51
        }
      ],
      "source": [
        "\"\"\"\n",
        "model 1 - feature extraction transfer learning with 1% of training data with data augumentation\n",
        "model 2 - feature extraction transfer learning with 10% of the training with data augumentaion\n",
        "model3-use fine tuning transfer learning on 100% of training data\n",
        "model 4 - same as model3\n",
        "\"\"\""
      ]
    },
    {
      "cell_type": "code",
      "execution_count": 52,
      "metadata": {
        "colab": {
          "base_uri": "https://localhost:8080/"
        },
        "id": "Vi3_GlYORZQ_",
        "outputId": "77bb98e8-85ee-4ae5-e230-f3f7271788f7"
      },
      "outputs": [
        {
          "output_type": "stream",
          "name": "stdout",
          "text": [
            "--2024-02-04 08:50:37--  https://storage.googleapis.com/ztm_tf_course/food_vision/10_food_classes_1_percent.zip\n",
            "Resolving storage.googleapis.com (storage.googleapis.com)... 108.177.12.207, 108.177.13.207, 74.125.26.207, ...\n",
            "Connecting to storage.googleapis.com (storage.googleapis.com)|108.177.12.207|:443... connected.\n",
            "HTTP request sent, awaiting response... 200 OK\n",
            "Length: 133612354 (127M) [application/zip]\n",
            "Saving to: ‘10_food_classes_1_percent.zip.1’\n",
            "\n",
            "10_food_classes_1_p 100%[===================>] 127.42M   147MB/s    in 0.9s    \n",
            "\n",
            "2024-02-04 08:50:38 (147 MB/s) - ‘10_food_classes_1_percent.zip.1’ saved [133612354/133612354]\n",
            "\n"
          ]
        }
      ],
      "source": [
        "\n",
        "\n",
        "# Download and unzip data\n",
        "!wget https://storage.googleapis.com/ztm_tf_course/food_vision/10_food_classes_1_percent.zip\n",
        "unzip_data(\"10_food_classes_1_percent.zip\")\n",
        "\n",
        "# Create training and test dirs\n",
        "train_dir_1_percent = \"10_food_classes_1_percent/train/\"\n",
        "test_dir = \"10_food_classes_1_percent/test/\""
      ]
    },
    {
      "cell_type": "code",
      "execution_count": 53,
      "metadata": {
        "colab": {
          "base_uri": "https://localhost:8080/"
        },
        "id": "Ndour9ifRcrY",
        "outputId": "88eb4062-9d0d-418c-9671-9034741f240b"
      },
      "outputs": [
        {
          "output_type": "stream",
          "name": "stdout",
          "text": [
            "There are 2 directories and 0 images in '10_food_classes_1_percent'.\n",
            "There are 10 directories and 0 images in '10_food_classes_1_percent/test'.\n",
            "There are 0 directories and 250 images in '10_food_classes_1_percent/test/pizza'.\n",
            "There are 0 directories and 250 images in '10_food_classes_1_percent/test/sushi'.\n",
            "There are 0 directories and 250 images in '10_food_classes_1_percent/test/hamburger'.\n",
            "There are 0 directories and 250 images in '10_food_classes_1_percent/test/steak'.\n",
            "There are 0 directories and 250 images in '10_food_classes_1_percent/test/fried_rice'.\n",
            "There are 0 directories and 250 images in '10_food_classes_1_percent/test/ice_cream'.\n",
            "There are 0 directories and 250 images in '10_food_classes_1_percent/test/grilled_salmon'.\n",
            "There are 0 directories and 250 images in '10_food_classes_1_percent/test/ramen'.\n",
            "There are 0 directories and 250 images in '10_food_classes_1_percent/test/chicken_wings'.\n",
            "There are 0 directories and 250 images in '10_food_classes_1_percent/test/chicken_curry'.\n",
            "There are 10 directories and 0 images in '10_food_classes_1_percent/train'.\n",
            "There are 0 directories and 7 images in '10_food_classes_1_percent/train/pizza'.\n",
            "There are 0 directories and 7 images in '10_food_classes_1_percent/train/sushi'.\n",
            "There are 0 directories and 7 images in '10_food_classes_1_percent/train/hamburger'.\n",
            "There are 0 directories and 7 images in '10_food_classes_1_percent/train/steak'.\n",
            "There are 0 directories and 7 images in '10_food_classes_1_percent/train/fried_rice'.\n",
            "There are 0 directories and 7 images in '10_food_classes_1_percent/train/ice_cream'.\n",
            "There are 0 directories and 7 images in '10_food_classes_1_percent/train/grilled_salmon'.\n",
            "There are 0 directories and 7 images in '10_food_classes_1_percent/train/ramen'.\n",
            "There are 0 directories and 7 images in '10_food_classes_1_percent/train/chicken_wings'.\n",
            "There are 0 directories and 7 images in '10_food_classes_1_percent/train/chicken_curry'.\n"
          ]
        }
      ],
      "source": [
        "walk_through_dir(\"10_food_classes_1_percent\")"
      ]
    },
    {
      "cell_type": "code",
      "execution_count": 54,
      "metadata": {
        "colab": {
          "base_uri": "https://localhost:8080/"
        },
        "id": "uic6S3msR7fQ",
        "outputId": "f5a4f290-be95-4974-df2c-194847ae0ba6"
      },
      "outputs": [
        {
          "output_type": "stream",
          "name": "stdout",
          "text": [
            "Found 70 files belonging to 10 classes.\n"
          ]
        }
      ],
      "source": [
        "IMG_SIZE = (224,224)\n",
        "BATCH_SIZE = 32\n",
        "train_data_1_percent = tf.keras.preprocessing.image_dataset_from_directory(directory=train_dir_1_percent,image_size=(IMG_SIZE),label_mode=\"categorical\",batch_size=32)"
      ]
    },
    {
      "cell_type": "code",
      "execution_count": 55,
      "metadata": {
        "colab": {
          "base_uri": "https://localhost:8080/"
        },
        "id": "Ajc5x46cSnn2",
        "outputId": "ba329609-8f6d-4c78-d778-7420e713b2fd"
      },
      "outputs": [
        {
          "output_type": "stream",
          "name": "stdout",
          "text": [
            "Found 2500 files belonging to 10 classes.\n"
          ]
        }
      ],
      "source": [
        "test_data = tf.keras.preprocessing.image_dataset_from_directory(directory= test_dir,image_size=IMG_SIZE,label_mode=\"categorical\",batch_size=32)"
      ]
    },
    {
      "cell_type": "code",
      "execution_count": 56,
      "metadata": {
        "colab": {
          "base_uri": "https://localhost:8080/",
          "height": 35
        },
        "id": "J2CQr1B4S9aK",
        "outputId": "e7bd2f67-bd20-44cb-c02f-3244896cd13d"
      },
      "outputs": [
        {
          "output_type": "execute_result",
          "data": {
            "text/plain": [
              "'\\ntf.keras.layers.experimental.preprocessing()\\n'"
            ],
            "application/vnd.google.colaboratory.intrinsic+json": {
              "type": "string"
            }
          },
          "metadata": {},
          "execution_count": 56
        }
      ],
      "source": [
        "#data augumentation\n",
        "\n",
        "#TO add data augumentation into our models ,we use layers inside,\n",
        "\"\"\"\n",
        "tf.keras.layers.experimental.preprocessing()\n",
        "\"\"\""
      ]
    },
    {
      "cell_type": "code",
      "execution_count": 57,
      "metadata": {
        "id": "hdb5JlyjS9dI"
      },
      "outputs": [],
      "source": [
        "from tensorflow.keras.layers.experimental import preprocessing\n",
        "\n",
        "data_augumentation = tf.keras.Sequential([\n",
        "    preprocessing.RandomFlip(\"horizontal\"),\n",
        "    preprocessing.RandomRotation(0.2),\n",
        "    preprocessing.RandomZoom(0.2),\n",
        "    preprocessing.RandomHeight(0.2),\n",
        "    preprocessing.RandomWidth(0.2)\n",
        "],name=\"data_augumentation\")\n",
        "\n"
      ]
    },
    {
      "cell_type": "code",
      "execution_count": 58,
      "metadata": {
        "id": "Aqm3jb7CWHDX"
      },
      "outputs": [],
      "source": [
        "import matplotlib.pyplot as plt\n",
        "import matplotlib.image as mpimg\n",
        "import os\n",
        "import random\n",
        "\n",
        "target_class = random.choice(train_data_1_percent.class_names)"
      ]
    },
    {
      "cell_type": "code",
      "execution_count": 59,
      "metadata": {
        "colab": {
          "base_uri": "https://localhost:8080/",
          "height": 35
        },
        "id": "kRNmVHqoS9gu",
        "outputId": "6e8fc387-2ab1-406d-cb28-e6d63e8bd8be"
      },
      "outputs": [
        {
          "data": {
            "application/vnd.google.colaboratory.intrinsic+json": {
              "type": "string"
            },
            "text/plain": [
              "'10_food_classes_1_percent/train/steak'"
            ]
          },
          "execution_count": 59,
          "metadata": {},
          "output_type": "execute_result"
        }
      ],
      "source": [
        "target_dir = \"10_food_classes_1_percent/train/\" + target_class\n",
        "target_dir"
      ]
    },
    {
      "cell_type": "code",
      "execution_count": 60,
      "metadata": {
        "colab": {
          "base_uri": "https://localhost:8080/"
        },
        "id": "UYid_hnMS9k2",
        "outputId": "d3457e62-f834-4541-fed2-437aadbb7af3"
      },
      "outputs": [
        {
          "output_type": "execute_result",
          "data": {
            "text/plain": [
              "['chicken_curry',\n",
              " 'chicken_wings',\n",
              " 'fried_rice',\n",
              " 'grilled_salmon',\n",
              " 'hamburger',\n",
              " 'ice_cream',\n",
              " 'pizza',\n",
              " 'ramen',\n",
              " 'steak',\n",
              " 'sushi']"
            ]
          },
          "metadata": {},
          "execution_count": 60
        }
      ],
      "source": [
        "train_data_1_percent.class_names"
      ]
    },
    {
      "cell_type": "code",
      "execution_count": 61,
      "metadata": {
        "colab": {
          "base_uri": "https://localhost:8080/",
          "height": 452
        },
        "id": "Q4ks1VENWmyy",
        "outputId": "e0b26c08-155d-4b4b-f1b6-aec817b58841"
      },
      "outputs": [
        {
          "output_type": "execute_result",
          "data": {
            "text/plain": [
              "<matplotlib.image.AxesImage at 0x7c297559a080>"
            ]
          },
          "metadata": {},
          "execution_count": 61
        },
        {
          "output_type": "display_data",
          "data": {
            "text/plain": [
              "<Figure size 640x480 with 1 Axes>"
            ],
            "image/png": "[encoded data removed]"
          },
          "metadata": {}
        }
      ],
      "source": [
        "random_image_path = random.choice(os.listdir(target_dir))\n",
        "img = mpimg.imread(\"/content/10_food_classes_1_percent/test/chicken_wings/1010547.jpg\")\n",
        "plt.axis()\n",
        "plt.imshow(img)"
      ]
    },
    {
      "cell_type": "markdown",
      "source": [
        "Model 1: Feature Extraction transfer learning on 1% of the data with data augumentation"
      ],
      "metadata": {
        "id": "CHFj8oPJYwKh"
      }
    },
    {
      "cell_type": "code",
      "execution_count": 62,
      "metadata": {
        "id": "n6dHJWLHW6vQ"
      },
      "outputs": [],
      "source": [
        "input_shape = (224,224,3)\n",
        "\n",
        "base_model = tf.keras.applications.EfficientNetB0(include_top=False)\n",
        "base_model.trainable = False"
      ]
    },
    {
      "cell_type": "code",
      "source": [
        "import tensorflow as tf\n",
        "from tensorflow.keras.layers import Input, Dense, GlobalAveragePooling2D\n",
        "from tensorflow.keras.models import Model\n",
        "from tensorflow.keras import layers\n",
        "import keras\n"
      ],
      "metadata": {
        "id": "kEsDqwnGZuBB"
      },
      "execution_count": 68,
      "outputs": []
    },
    {
      "cell_type": "code",
      "source": [
        "#create input layer\n",
        "\n",
        "input = layers.Input(shape = input_shape,name=\"input_layer\")\n",
        "\n",
        "#add in data augumentation sequential model as layers\n",
        "x = data_augumentation(input)\n",
        "x = base_model(x,training=False)\n",
        "\n",
        "#pool output\n",
        "x = layers.GlobalAveragePooling2D()(x)\n",
        "\n",
        "#output layer\n",
        "outputs = layers.Dense(10,activation=\"softmax\",name=\"output_layer\")(x)\n",
        "\n",
        "#model using the inputs and outputs\n",
        "\n",
        "model_1 = keras.Model(input,outputs)\n",
        "\n",
        "#comile the model\n",
        "model_1.compile(loss=\"categorical_crossentropy\",optimizer = tf.keras.optimizers.Adam(),metrics=[\"accuracy\"])\n"
      ],
      "metadata": {
        "id": "L0_-gI2mZUPX"
      },
      "execution_count": 69,
      "outputs": []
    },
    {
      "cell_type": "code",
      "source": [
        "#train the model\n",
        "model_1.fit(train_data_1_percent,epochs=5,steps_per_epoch=len(train_data_1_percent),\n",
        "           validation_data = test_data,validation_steps= int(0.25 * len(test_data)),callbacks = [create_tensorboard_callback(dir_name=\"transfer_learning\",experiment_name=\"1_percent_data_aug\")] )"
      ],
      "metadata": {
        "colab": {
          "base_uri": "https://localhost:8080/"
        },
        "id": "76SKlRKcZUR3",
        "outputId": "b668d75e-a399-42a5-d281-565d99ba12bd"
      },
      "execution_count": 70,
      "outputs": [
        {
          "output_type": "stream",
          "name": "stdout",
          "text": [
            "Saving TensorBoard log files to: transfer_learning/1_percent_data_aug/20240204-090420\n",
            "Epoch 1/5\n",
            "3/3 [==============================] - 67s 24s/step - loss: 2.4090 - accuracy: 0.1143 - val_loss: 2.2881 - val_accuracy: 0.1562\n",
            "Epoch 2/5\n",
            "3/3 [==============================] - 87s 42s/step - loss: 2.1464 - accuracy: 0.2571 - val_loss: 2.1257 - val_accuracy: 0.2188\n",
            "Epoch 3/5\n",
            "3/3 [==============================] - 49s 23s/step - loss: 1.8819 - accuracy: 0.3714 - val_loss: 2.0309 - val_accuracy: 0.2961\n",
            "Epoch 4/5\n",
            "3/3 [==============================] - 79s 36s/step - loss: 1.7656 - accuracy: 0.5000 - val_loss: 1.9338 - val_accuracy: 0.3487\n",
            "Epoch 5/5\n",
            "3/3 [==============================] - 89s 43s/step - loss: 1.6201 - accuracy: 0.6000 - val_loss: 1.8356 - val_accuracy: 0.4112\n"
          ]
        },
        {
          "output_type": "execute_result",
          "data": {
            "text/plain": [
              "<keras.src.callbacks.History at 0x7c2974b267d0>"
            ]
          },
          "metadata": {},
          "execution_count": 70
        }
      ]
    },
    {
      "cell_type": "code",
      "source": [
        "#check out a model summary\n",
        "model_1.summary()"
      ],
      "metadata": {
        "colab": {
          "base_uri": "https://localhost:8080/"
        },
        "id": "UIA4p9AwZUVh",
        "outputId": "727b6030-e691-4552-90bc-2b6ea0b6f255"
      },
      "execution_count": 71,
      "outputs": [
        {
          "output_type": "stream",
          "name": "stdout",
          "text": [
            "Model: \"model_2\"\n",
            "_________________________________________________________________\n",
            " Layer (type)                Output Shape              Param #   \n",
            "=================================================================\n",
            " input_layer (InputLayer)    [(None, 224, 224, 3)]     0         \n",
            "                                                                 \n",
            " data_augumentation (Sequen  (None, None, None, 3)     0         \n",
            " tial)                                                           \n",
            "                                                                 \n",
            " efficientnetb0 (Functional  (None, None, None, 1280   4049571   \n",
            " )                           )                                   \n",
            "                                                                 \n",
            " global_average_pooling2d_4  (None, 1280)              0         \n",
            "  (GlobalAveragePooling2D)                                       \n",
            "                                                                 \n",
            " output_layer (Dense)        (None, 10)                12810     \n",
            "                                                                 \n",
            "=================================================================\n",
            "Total params: 4062381 (15.50 MB)\n",
            "Trainable params: 12810 (50.04 KB)\n",
            "Non-trainable params: 4049571 (15.45 MB)\n",
            "_________________________________________________________________\n"
          ]
        }
      ]
    },
    {
      "cell_type": "code",
      "source": [
        "IMG_SIZE + (3,)"
      ],
      "metadata": {
        "colab": {
          "base_uri": "https://localhost:8080/"
        },
        "id": "oB3VO3WsY6M4",
        "outputId": "cd4ced65-b7a7-44d0-e3a5-67e629e20f07"
      },
      "execution_count": 72,
      "outputs": [
        {
          "output_type": "execute_result",
          "data": {
            "text/plain": [
              "(224, 224, 3)"
            ]
          },
          "metadata": {},
          "execution_count": 72
        }
      ]
    },
    {
      "cell_type": "code",
      "source": [
        "plot_loss_curves(model_1.history)"
      ],
      "metadata": {
        "colab": {
          "base_uri": "https://localhost:8080/",
          "height": 927
        },
        "id": "ZfBvd3YPZEAm",
        "outputId": "ab048458-e061-43eb-846d-1eb69ad01bb3"
      },
      "execution_count": 73,
      "outputs": [
        {
          "output_type": "display_data",
          "data": {
            "text/plain": [
              "<Figure size 640x480 with 1 Axes>"
            ],
            "image/png": "[encoded data removed]"
          },
          "metadata": {}
        },
        {
          "output_type": "display_data",
          "data": {
            "text/plain": [
              "<Figure size 640x480 with 1 Axes>"
            ],
            "image/png": "[encoded data removed]"
          },
          "metadata": {}
        }
      ]
    },
    {
      "cell_type": "code",
      "source": [
        "results_1_percent_data_aug = model_1.evaluate(test_data)\n",
        "results_1_percent_data_aug"
      ],
      "metadata": {
        "colab": {
          "base_uri": "https://localhost:8080/"
        },
        "id": "7q8-mDkacuR-",
        "outputId": "351a97c5-f54d-40c0-c177-39318eb98629"
      },
      "execution_count": 74,
      "outputs": [
        {
          "output_type": "stream",
          "name": "stdout",
          "text": [
            "79/79 [==============================] - 188s 2s/step - loss: 1.8449 - accuracy: 0.4216\n"
          ]
        },
        {
          "output_type": "execute_result",
          "data": {
            "text/plain": [
              "[1.8449461460113525, 0.42160001397132874]"
            ]
          },
          "metadata": {},
          "execution_count": 74
        }
      ]
    },
    {
      "cell_type": "markdown",
      "source": [
        "Model 2 : Same as model 0 but preprocess as model 1"
      ],
      "metadata": {
        "id": "A8IvKY7-dSj1"
      }
    },
    {
      "cell_type": "code",
      "source": [
        "#model 2 feature extraction\n",
        "\n",
        "data_augumentation.summary()\n"
      ],
      "metadata": {
        "colab": {
          "base_uri": "https://localhost:8080/"
        },
        "id": "rXgY6qFac8AP",
        "outputId": "0ca1d01d-ad23-4e1d-f958-445cfb6d72c2"
      },
      "execution_count": 75,
      "outputs": [
        {
          "output_type": "stream",
          "name": "stdout",
          "text": [
            "Model: \"data_augumentation\"\n",
            "_________________________________________________________________\n",
            " Layer (type)                Output Shape              Param #   \n",
            "=================================================================\n",
            " random_flip_1 (RandomFlip)  (None, 224, 224, 3)       0         \n",
            "                                                                 \n",
            " random_rotation_1 (RandomR  (None, 224, 224, 3)       0         \n",
            " otation)                                                        \n",
            "                                                                 \n",
            " random_zoom_1 (RandomZoom)  (None, 224, 224, 3)       0         \n",
            "                                                                 \n",
            " random_height_1 (RandomHei  (None, None, 224, 3)      0         \n",
            " ght)                                                            \n",
            "                                                                 \n",
            " random_width_1 (RandomWidt  (None, None, None, 3)     0         \n",
            " h)                                                              \n",
            "                                                                 \n",
            "=================================================================\n",
            "Total params: 0 (0.00 Byte)\n",
            "Trainable params: 0 (0.00 Byte)\n",
            "Non-trainable params: 0 (0.00 Byte)\n",
            "_________________________________________________________________\n"
          ]
        }
      ]
    },
    {
      "cell_type": "code",
      "source": [
        "from tensorflow.keras.models import Sequential"
      ],
      "metadata": {
        "id": "jZpx1CLveT7p"
      },
      "execution_count": 76,
      "outputs": []
    },
    {
      "cell_type": "code",
      "source": [
        "input_shape = (224,224,3)\n",
        "data_augumentation = Sequential([\n",
        "    preprocessing.RandomFlip(\"horizontal\"),\n",
        "    preprocessing.RandomHeight(0.2),\n",
        "    preprocessing.RandomWidth(0.2),\n",
        "    preprocessing.RandomZoom(0.2),\n",
        "    preprocessing.RandomRotation(0.2)\n",
        "],name=\"data_augumentation\")\n",
        "base_model = tf.keras.applications.EfficientNetB0(include_top=False)\n",
        "base_model.trainable = False\n",
        "\n",
        "#create inputs and outputs\n",
        "inputs = layers.Input(shape=input_shape,name=\"input_layer\")\n",
        "x = data_augumentation(inputs)\n",
        "x = base_model(x,training=False) #keep the base mode in inference model,this batch noem layers dont get updated\n",
        "x = layers.GlobalAveragePooling2D(name=\"global_average_pooling_2D\")(x)\n",
        "output = layers.Dense(10,activation=\"softmax\",name=\"output_layer\")(x)\n",
        "\n",
        "model_2 = tf.keras.Model(inputs,output)"
      ],
      "metadata": {
        "id": "RFBoDlYIe-q_"
      },
      "execution_count": 77,
      "outputs": []
    },
    {
      "cell_type": "code",
      "source": [
        "model_2.compile(loss = \"categorical_crossentropy\",optimizer=tf.keras.optimizers.Adam(),metrics=[\"accuracy\"])"
      ],
      "metadata": {
        "id": "4wL3PWThedTn"
      },
      "execution_count": 78,
      "outputs": []
    },
    {
      "cell_type": "code",
      "source": [
        "model_2.summary()"
      ],
      "metadata": {
        "colab": {
          "base_uri": "https://localhost:8080/"
        },
        "id": "hF1Vt_Djgwho",
        "outputId": "5713b200-74a5-4c85-a79d-f00ec6d8d7f0"
      },
      "execution_count": 79,
      "outputs": [
        {
          "output_type": "stream",
          "name": "stdout",
          "text": [
            "Model: \"model_3\"\n",
            "_________________________________________________________________\n",
            " Layer (type)                Output Shape              Param #   \n",
            "=================================================================\n",
            " input_layer (InputLayer)    [(None, 224, 224, 3)]     0         \n",
            "                                                                 \n",
            " data_augumentation (Sequen  (None, None, None, 3)     0         \n",
            " tial)                                                           \n",
            "                                                                 \n",
            " efficientnetb0 (Functional  (None, None, None, 1280   4049571   \n",
            " )                           )                                   \n",
            "                                                                 \n",
            " global_average_pooling_2D   (None, 1280)              0         \n",
            " (GlobalAveragePooling2D)                                        \n",
            "                                                                 \n",
            " output_layer (Dense)        (None, 10)                12810     \n",
            "                                                                 \n",
            "=================================================================\n",
            "Total params: 4062381 (15.50 MB)\n",
            "Trainable params: 12810 (50.04 KB)\n",
            "Non-trainable params: 4049571 (15.45 MB)\n",
            "_________________________________________________________________\n"
          ]
        }
      ]
    },
    {
      "cell_type": "code",
      "source": [
        "#set checkpoint path\n",
        "checkpoint_path = \"ten_percent_model_checkpointswights/checkpoint.ckpt\"\n",
        "\n",
        "#create a modelcheckpoint callback save the model's weight only\n",
        "checkpoint_callback = tf.keras.callbacks.ModelCheckpoint(filepath=checkpoint_path,save_weight_only=True,save_best_only=True,save_freq=\"epoch\",verbose=1)"
      ],
      "metadata": {
        "id": "SXFCZjyMnVus"
      },
      "execution_count": 80,
      "outputs": []
    },
    {
      "cell_type": "code",
      "source": [
        "initial_epochs = 5\n",
        "history_10_percent_data_aug = model_2.fit(train_data_10_percent,\n",
        "                                          epochs=initial_epochs,\n",
        "                                          validation_data=test_data,\n",
        "                                          validation_steps=int(0.25 * len(test_data)), # do less steps per validation (quicker)\n",
        "                                          callbacks=[create_tensorboard_callback(\"transfer_learning\", \"10_percent_data_aug\"),\n",
        "                                                     checkpoint_callback])"
      ],
      "metadata": {
        "colab": {
          "base_uri": "https://localhost:8080/"
        },
        "id": "tzHocEvugzK2",
        "outputId": "67abc0e8-44ad-4f2a-a1b6-a2241e52651b"
      },
      "execution_count": 81,
      "outputs": [
        {
          "output_type": "stream",
          "name": "stdout",
          "text": [
            "Saving TensorBoard log files to: transfer_learning/10_percent_data_aug/20240204-091636\n",
            "Epoch 1/5\n",
            "24/24 [==============================] - ETA: 0s - loss: 1.9845 - accuracy: 0.3360\n",
            "Epoch 1: val_loss improved from inf to 1.40973, saving model to ten_percent_model_checkpointswights/checkpoint.ckpt\n",
            "24/24 [==============================] - 187s 8s/step - loss: 1.9845 - accuracy: 0.3360 - val_loss: 1.4097 - val_accuracy: 0.7418\n",
            "Epoch 2/5\n",
            "24/24 [==============================] - ETA: 0s - loss: 1.3006 - accuracy: 0.7040\n",
            "Epoch 2: val_loss improved from 1.40973 to 0.97923, saving model to ten_percent_model_checkpointswights/checkpoint.ckpt\n",
            "24/24 [==============================] - 179s 8s/step - loss: 1.3006 - accuracy: 0.7040 - val_loss: 0.9792 - val_accuracy: 0.8141\n",
            "Epoch 3/5\n",
            "24/24 [==============================] - ETA: 0s - loss: 0.9863 - accuracy: 0.7813\n",
            "Epoch 3: val_loss improved from 0.97923 to 0.75713, saving model to ten_percent_model_checkpointswights/checkpoint.ckpt\n",
            "Epoch 4/5\n",
            "24/24 [==============================] - ETA: 0s - loss: 0.8318 - accuracy: 0.7920\n",
            "Epoch 4: val_loss improved from 0.75713 to 0.66274, saving model to ten_percent_model_checkpointswights/checkpoint.ckpt\n",
            "24/24 [==============================] - 185s 8s/step - loss: 0.8318 - accuracy: 0.7920 - val_loss: 0.6627 - val_accuracy: 0.8339\n",
            "Epoch 5/5\n",
            "24/24 [==============================] - ETA: 0s - loss: 0.7269 - accuracy: 0.8200\n",
            "Epoch 5: val_loss improved from 0.66274 to 0.59596, saving model to ten_percent_model_checkpointswights/checkpoint.ckpt\n",
            "24/24 [==============================] - 180s 8s/step - loss: 0.7269 - accuracy: 0.8200 - val_loss: 0.5960 - val_accuracy: 0.8388\n"
          ]
        }
      ]
    },
    {
      "cell_type": "code",
      "source": [
        "results_10_percent_data_aug = model_2.evaluate(test_data)\n",
        "results_10_percent_data_aug"
      ],
      "metadata": {
        "colab": {
          "base_uri": "https://localhost:8080/"
        },
        "id": "OmGazZhKpsFy",
        "outputId": "1dcd3129-d000-4f37-f72c-37f4c9046f52"
      },
      "execution_count": 93,
      "outputs": [
        {
          "output_type": "stream",
          "name": "stdout",
          "text": [
            "79/79 [==============================] - 208s 3s/step - loss: 0.6165 - accuracy: 0.8460\n"
          ]
        },
        {
          "output_type": "execute_result",
          "data": {
            "text/plain": [
              "[0.6165186166763306, 0.8460000157356262]"
            ]
          },
          "metadata": {},
          "execution_count": 93
        }
      ]
    },
    {
      "cell_type": "code",
      "source": [
        "data_augumentation.summary()"
      ],
      "metadata": {
        "colab": {
          "base_uri": "https://localhost:8080/"
        },
        "id": "RWD62n28e3V4",
        "outputId": "63beabeb-e621-4049-c11a-f3d05e4affaf"
      },
      "execution_count": 94,
      "outputs": [
        {
          "output_type": "stream",
          "name": "stdout",
          "text": [
            "Model: \"data_augumentation\"\n",
            "_________________________________________________________________\n",
            " Layer (type)                Output Shape              Param #   \n",
            "=================================================================\n",
            " random_flip_2 (RandomFlip)  (None, 224, 224, 3)       0         \n",
            "                                                                 \n",
            " random_height_2 (RandomHei  (None, None, 224, 3)      0         \n",
            " ght)                                                            \n",
            "                                                                 \n",
            " random_width_2 (RandomWidt  (None, None, None, 3)     0         \n",
            " h)                                                              \n",
            "                                                                 \n",
            " random_zoom_2 (RandomZoom)  (None, None, None, 3)     0         \n",
            "                                                                 \n",
            " random_rotation_2 (RandomR  (None, None, None, 3)     0         \n",
            " otation)                                                        \n",
            "                                                                 \n",
            "=================================================================\n",
            "Total params: 0 (0.00 Byte)\n",
            "Trainable params: 0 (0.00 Byte)\n",
            "Non-trainable params: 0 (0.00 Byte)\n",
            "_________________________________________________________________\n"
          ]
        }
      ]
    },
    {
      "cell_type": "code",
      "source": [
        "\n",
        "#loading the checkpoints and weights\n",
        "model_2.evaluate(test_data)\n",
        "\n"
      ],
      "metadata": {
        "colab": {
          "base_uri": "https://localhost:8080/"
        },
        "id": "LO_AIMj0e7uw",
        "outputId": "da4cc268-86f8-446c-c2f4-4dd8efd599ce"
      },
      "execution_count": 95,
      "outputs": [
        {
          "output_type": "stream",
          "name": "stdout",
          "text": [
            "79/79 [==============================] - 219s 3s/step - loss: 0.6165 - accuracy: 0.8460\n"
          ]
        },
        {
          "output_type": "execute_result",
          "data": {
            "text/plain": [
              "[0.6165183782577515, 0.8460000157356262]"
            ]
          },
          "metadata": {},
          "execution_count": 95
        }
      ]
    },
    {
      "cell_type": "markdown",
      "source": [
        "MODEL 3"
      ],
      "metadata": {
        "id": "3hvb07ymrYNM"
      }
    },
    {
      "cell_type": "code",
      "source": [
        "\n",
        "\n",
        "#layers in a load model\n",
        "\n",
        "model_2.layers"
      ],
      "metadata": {
        "colab": {
          "base_uri": "https://localhost:8080/"
        },
        "id": "UyoZ-Iy1qw_7",
        "outputId": "3a4b42b5-d0b4-49b5-c0cf-a1aa774cff78"
      },
      "execution_count": 96,
      "outputs": [
        {
          "output_type": "execute_result",
          "data": {
            "text/plain": [
              "[<keras.src.engine.input_layer.InputLayer at 0x7c2974d792d0>,\n",
              " <keras.src.engine.sequential.Sequential at 0x7c2966feafe0>,\n",
              " <keras.src.engine.functional.Functional at 0x7c2966b950c0>,\n",
              " <keras.src.layers.pooling.global_average_pooling2d.GlobalAveragePooling2D at 0x7c2974adadd0>,\n",
              " <keras.src.layers.core.dense.Dense at 0x7c294bb9c190>]"
            ]
          },
          "metadata": {},
          "execution_count": 96
        }
      ]
    },
    {
      "cell_type": "code",
      "source": [
        "\n",
        "for layer in model_2.layers:\n",
        "  print(layer,layer.trainable)"
      ],
      "metadata": {
        "colab": {
          "base_uri": "https://localhost:8080/"
        },
        "id": "sx13ErRkuS6C",
        "outputId": "d24f0fb3-47fd-4c6b-bc8d-4ac6774bf506"
      },
      "execution_count": 97,
      "outputs": [
        {
          "output_type": "stream",
          "name": "stdout",
          "text": [
            "<keras.src.engine.input_layer.InputLayer object at 0x7c2974d792d0> True\n",
            "<keras.src.engine.sequential.Sequential object at 0x7c2966feafe0> True\n",
            "<keras.src.engine.functional.Functional object at 0x7c2966b950c0> True\n",
            "<keras.src.layers.pooling.global_average_pooling2d.GlobalAveragePooling2D object at 0x7c2974adadd0> True\n",
            "<keras.src.layers.core.dense.Dense object at 0x7c294bb9c190> True\n"
          ]
        }
      ]
    },
    {
      "cell_type": "code",
      "source": [
        "\n",
        "for i,layer in enumerate(model_2.layers[2].layers):\n",
        "  print(i,layer.name,layer.trainable)"
      ],
      "metadata": {
        "colab": {
          "base_uri": "https://localhost:8080/"
        },
        "id": "thlsMCXYuaeC",
        "outputId": "273322b3-d357-491a-9a60-cca0e7d8ed5e"
      },
      "execution_count": 98,
      "outputs": [
        {
          "output_type": "stream",
          "name": "stdout",
          "text": [
            "0 input_5 False\n",
            "1 rescaling_8 False\n",
            "2 normalization_4 False\n",
            "3 rescaling_9 False\n",
            "4 stem_conv_pad False\n",
            "5 stem_conv False\n",
            "6 stem_bn False\n",
            "7 stem_activation False\n",
            "8 block1a_dwconv False\n",
            "9 block1a_bn False\n",
            "10 block1a_activation False\n",
            "11 block1a_se_squeeze False\n",
            "12 block1a_se_reshape False\n",
            "13 block1a_se_reduce False\n",
            "14 block1a_se_expand False\n",
            "15 block1a_se_excite False\n",
            "16 block1a_project_conv False\n",
            "17 block1a_project_bn False\n",
            "18 block2a_expand_conv False\n",
            "19 block2a_expand_bn False\n",
            "20 block2a_expand_activation False\n",
            "21 block2a_dwconv_pad False\n",
            "22 block2a_dwconv False\n",
            "23 block2a_bn False\n",
            "24 block2a_activation False\n",
            "25 block2a_se_squeeze False\n",
            "26 block2a_se_reshape False\n",
            "27 block2a_se_reduce False\n",
            "28 block2a_se_expand False\n",
            "29 block2a_se_excite False\n",
            "30 block2a_project_conv False\n",
            "31 block2a_project_bn False\n",
            "32 block2b_expand_conv False\n",
            "33 block2b_expand_bn False\n",
            "34 block2b_expand_activation False\n",
            "35 block2b_dwconv False\n",
            "36 block2b_bn False\n",
            "37 block2b_activation False\n",
            "38 block2b_se_squeeze False\n",
            "39 block2b_se_reshape False\n",
            "40 block2b_se_reduce False\n",
            "41 block2b_se_expand False\n",
            "42 block2b_se_excite False\n",
            "43 block2b_project_conv False\n",
            "44 block2b_project_bn False\n",
            "45 block2b_drop False\n",
            "46 block2b_add False\n",
            "47 block3a_expand_conv False\n",
            "48 block3a_expand_bn False\n",
            "49 block3a_expand_activation False\n",
            "50 block3a_dwconv_pad False\n",
            "51 block3a_dwconv False\n",
            "52 block3a_bn False\n",
            "53 block3a_activation False\n",
            "54 block3a_se_squeeze False\n",
            "55 block3a_se_reshape False\n",
            "56 block3a_se_reduce False\n",
            "57 block3a_se_expand False\n",
            "58 block3a_se_excite False\n",
            "59 block3a_project_conv False\n",
            "60 block3a_project_bn False\n",
            "61 block3b_expand_conv False\n",
            "62 block3b_expand_bn False\n",
            "63 block3b_expand_activation False\n",
            "64 block3b_dwconv False\n",
            "65 block3b_bn False\n",
            "66 block3b_activation False\n",
            "67 block3b_se_squeeze False\n",
            "68 block3b_se_reshape False\n",
            "69 block3b_se_reduce False\n",
            "70 block3b_se_expand False\n",
            "71 block3b_se_excite False\n",
            "72 block3b_project_conv False\n",
            "73 block3b_project_bn False\n",
            "74 block3b_drop False\n",
            "75 block3b_add False\n",
            "76 block4a_expand_conv False\n",
            "77 block4a_expand_bn False\n",
            "78 block4a_expand_activation False\n",
            "79 block4a_dwconv_pad False\n",
            "80 block4a_dwconv False\n",
            "81 block4a_bn False\n",
            "82 block4a_activation False\n",
            "83 block4a_se_squeeze False\n",
            "84 block4a_se_reshape False\n",
            "85 block4a_se_reduce False\n",
            "86 block4a_se_expand False\n",
            "87 block4a_se_excite False\n",
            "88 block4a_project_conv False\n",
            "89 block4a_project_bn False\n",
            "90 block4b_expand_conv False\n",
            "91 block4b_expand_bn False\n",
            "92 block4b_expand_activation False\n",
            "93 block4b_dwconv False\n",
            "94 block4b_bn False\n",
            "95 block4b_activation False\n",
            "96 block4b_se_squeeze False\n",
            "97 block4b_se_reshape False\n",
            "98 block4b_se_reduce False\n",
            "99 block4b_se_expand False\n",
            "100 block4b_se_excite False\n",
            "101 block4b_project_conv False\n",
            "102 block4b_project_bn False\n",
            "103 block4b_drop False\n",
            "104 block4b_add False\n",
            "105 block4c_expand_conv False\n",
            "106 block4c_expand_bn False\n",
            "107 block4c_expand_activation False\n",
            "108 block4c_dwconv False\n",
            "109 block4c_bn False\n",
            "110 block4c_activation False\n",
            "111 block4c_se_squeeze False\n",
            "112 block4c_se_reshape False\n",
            "113 block4c_se_reduce False\n",
            "114 block4c_se_expand False\n",
            "115 block4c_se_excite False\n",
            "116 block4c_project_conv False\n",
            "117 block4c_project_bn False\n",
            "118 block4c_drop False\n",
            "119 block4c_add False\n",
            "120 block5a_expand_conv False\n",
            "121 block5a_expand_bn False\n",
            "122 block5a_expand_activation False\n",
            "123 block5a_dwconv False\n",
            "124 block5a_bn False\n",
            "125 block5a_activation False\n",
            "126 block5a_se_squeeze False\n",
            "127 block5a_se_reshape False\n",
            "128 block5a_se_reduce False\n",
            "129 block5a_se_expand False\n",
            "130 block5a_se_excite False\n",
            "131 block5a_project_conv False\n",
            "132 block5a_project_bn False\n",
            "133 block5b_expand_conv False\n",
            "134 block5b_expand_bn False\n",
            "135 block5b_expand_activation False\n",
            "136 block5b_dwconv False\n",
            "137 block5b_bn False\n",
            "138 block5b_activation False\n",
            "139 block5b_se_squeeze False\n",
            "140 block5b_se_reshape False\n",
            "141 block5b_se_reduce False\n",
            "142 block5b_se_expand False\n",
            "143 block5b_se_excite False\n",
            "144 block5b_project_conv False\n",
            "145 block5b_project_bn False\n",
            "146 block5b_drop False\n",
            "147 block5b_add False\n",
            "148 block5c_expand_conv False\n",
            "149 block5c_expand_bn False\n",
            "150 block5c_expand_activation False\n",
            "151 block5c_dwconv False\n",
            "152 block5c_bn False\n",
            "153 block5c_activation False\n",
            "154 block5c_se_squeeze False\n",
            "155 block5c_se_reshape False\n",
            "156 block5c_se_reduce False\n",
            "157 block5c_se_expand False\n",
            "158 block5c_se_excite False\n",
            "159 block5c_project_conv False\n",
            "160 block5c_project_bn False\n",
            "161 block5c_drop False\n",
            "162 block5c_add False\n",
            "163 block6a_expand_conv False\n",
            "164 block6a_expand_bn False\n",
            "165 block6a_expand_activation False\n",
            "166 block6a_dwconv_pad False\n",
            "167 block6a_dwconv False\n",
            "168 block6a_bn False\n",
            "169 block6a_activation False\n",
            "170 block6a_se_squeeze False\n",
            "171 block6a_se_reshape False\n",
            "172 block6a_se_reduce False\n",
            "173 block6a_se_expand False\n",
            "174 block6a_se_excite False\n",
            "175 block6a_project_conv False\n",
            "176 block6a_project_bn False\n",
            "177 block6b_expand_conv False\n",
            "178 block6b_expand_bn False\n",
            "179 block6b_expand_activation False\n",
            "180 block6b_dwconv False\n",
            "181 block6b_bn False\n",
            "182 block6b_activation False\n",
            "183 block6b_se_squeeze False\n",
            "184 block6b_se_reshape False\n",
            "185 block6b_se_reduce False\n",
            "186 block6b_se_expand False\n",
            "187 block6b_se_excite False\n",
            "188 block6b_project_conv False\n",
            "189 block6b_project_bn False\n",
            "190 block6b_drop False\n",
            "191 block6b_add False\n",
            "192 block6c_expand_conv False\n",
            "193 block6c_expand_bn False\n",
            "194 block6c_expand_activation False\n",
            "195 block6c_dwconv False\n",
            "196 block6c_bn False\n",
            "197 block6c_activation False\n",
            "198 block6c_se_squeeze False\n",
            "199 block6c_se_reshape False\n",
            "200 block6c_se_reduce False\n",
            "201 block6c_se_expand False\n",
            "202 block6c_se_excite False\n",
            "203 block6c_project_conv False\n",
            "204 block6c_project_bn False\n",
            "205 block6c_drop False\n",
            "206 block6c_add False\n",
            "207 block6d_expand_conv False\n",
            "208 block6d_expand_bn False\n",
            "209 block6d_expand_activation False\n",
            "210 block6d_dwconv False\n",
            "211 block6d_bn False\n",
            "212 block6d_activation False\n",
            "213 block6d_se_squeeze False\n",
            "214 block6d_se_reshape False\n",
            "215 block6d_se_reduce False\n",
            "216 block6d_se_expand False\n",
            "217 block6d_se_excite False\n",
            "218 block6d_project_conv False\n",
            "219 block6d_project_bn False\n",
            "220 block6d_drop False\n",
            "221 block6d_add False\n",
            "222 block7a_expand_conv False\n",
            "223 block7a_expand_bn False\n",
            "224 block7a_expand_activation False\n",
            "225 block7a_dwconv False\n",
            "226 block7a_bn False\n",
            "227 block7a_activation False\n",
            "228 block7a_se_squeeze True\n",
            "229 block7a_se_reshape True\n",
            "230 block7a_se_reduce True\n",
            "231 block7a_se_expand True\n",
            "232 block7a_se_excite True\n",
            "233 block7a_project_conv True\n",
            "234 block7a_project_bn True\n",
            "235 top_conv True\n",
            "236 top_bn True\n",
            "237 top_activation True\n"
          ]
        }
      ]
    },
    {
      "cell_type": "code",
      "source": [
        "#how many trainable variables are in base model\n",
        "len(model_2.layers[2].trainable_variables)"
      ],
      "metadata": {
        "colab": {
          "base_uri": "https://localhost:8080/"
        },
        "id": "_nBXDmyZuzFA",
        "outputId": "92d04ff9-3a67-4492-95a9-295e91074464"
      },
      "execution_count": 99,
      "outputs": [
        {
          "output_type": "execute_result",
          "data": {
            "text/plain": [
              "10"
            ]
          },
          "metadata": {},
          "execution_count": 99
        }
      ]
    },
    {
      "cell_type": "code",
      "source": [
        "base_model.trainable = True\n",
        "for layer in base_model.layers[:-10]:\n",
        "  layer.trainable = False"
      ],
      "metadata": {
        "id": "EzU53ZBfvGKN"
      },
      "execution_count": 100,
      "outputs": []
    },
    {
      "cell_type": "code",
      "source": [
        "\n",
        "#recompile\n",
        "\n",
        "model_2.compile(loss=\"categorical_crossentropy\",optimizer = tf.keras.optimizers.Adam(lr=0.001),\n",
        "                metrics=[\"accuracy\"])"
      ],
      "metadata": {
        "colab": {
          "base_uri": "https://localhost:8080/"
        },
        "id": "m-lOW9yixByo",
        "outputId": "3a2ee575-6343-4574-f00a-a23f60d0dc08"
      },
      "execution_count": 101,
      "outputs": [
        {
          "output_type": "stream",
          "name": "stderr",
          "text": [
            "WARNING:absl:`lr` is deprecated in Keras optimizer, please use `learning_rate` or use the legacy optimizer, e.g.,tf.keras.optimizers.legacy.Adam.\n"
          ]
        }
      ]
    },
    {
      "cell_type": "code",
      "source": [
        "for i,layer in enumerate(model_2.layers[2].layers):\n",
        "  print(i,layer.name,layer.trainable)"
      ],
      "metadata": {
        "colab": {
          "base_uri": "https://localhost:8080/"
        },
        "id": "-1uLad_M8E9i",
        "outputId": "91373cee-d7aa-4d62-f968-7eff7f714de5"
      },
      "execution_count": 102,
      "outputs": [
        {
          "output_type": "stream",
          "name": "stdout",
          "text": [
            "0 input_5 False\n",
            "1 rescaling_8 False\n",
            "2 normalization_4 False\n",
            "3 rescaling_9 False\n",
            "4 stem_conv_pad False\n",
            "5 stem_conv False\n",
            "6 stem_bn False\n",
            "7 stem_activation False\n",
            "8 block1a_dwconv False\n",
            "9 block1a_bn False\n",
            "10 block1a_activation False\n",
            "11 block1a_se_squeeze False\n",
            "12 block1a_se_reshape False\n",
            "13 block1a_se_reduce False\n",
            "14 block1a_se_expand False\n",
            "15 block1a_se_excite False\n",
            "16 block1a_project_conv False\n",
            "17 block1a_project_bn False\n",
            "18 block2a_expand_conv False\n",
            "19 block2a_expand_bn False\n",
            "20 block2a_expand_activation False\n",
            "21 block2a_dwconv_pad False\n",
            "22 block2a_dwconv False\n",
            "23 block2a_bn False\n",
            "24 block2a_activation False\n",
            "25 block2a_se_squeeze False\n",
            "26 block2a_se_reshape False\n",
            "27 block2a_se_reduce False\n",
            "28 block2a_se_expand False\n",
            "29 block2a_se_excite False\n",
            "30 block2a_project_conv False\n",
            "31 block2a_project_bn False\n",
            "32 block2b_expand_conv False\n",
            "33 block2b_expand_bn False\n",
            "34 block2b_expand_activation False\n",
            "35 block2b_dwconv False\n",
            "36 block2b_bn False\n",
            "37 block2b_activation False\n",
            "38 block2b_se_squeeze False\n",
            "39 block2b_se_reshape False\n",
            "40 block2b_se_reduce False\n",
            "41 block2b_se_expand False\n",
            "42 block2b_se_excite False\n",
            "43 block2b_project_conv False\n",
            "44 block2b_project_bn False\n",
            "45 block2b_drop False\n",
            "46 block2b_add False\n",
            "47 block3a_expand_conv False\n",
            "48 block3a_expand_bn False\n",
            "49 block3a_expand_activation False\n",
            "50 block3a_dwconv_pad False\n",
            "51 block3a_dwconv False\n",
            "52 block3a_bn False\n",
            "53 block3a_activation False\n",
            "54 block3a_se_squeeze False\n",
            "55 block3a_se_reshape False\n",
            "56 block3a_se_reduce False\n",
            "57 block3a_se_expand False\n",
            "58 block3a_se_excite False\n",
            "59 block3a_project_conv False\n",
            "60 block3a_project_bn False\n",
            "61 block3b_expand_conv False\n",
            "62 block3b_expand_bn False\n",
            "63 block3b_expand_activation False\n",
            "64 block3b_dwconv False\n",
            "65 block3b_bn False\n",
            "66 block3b_activation False\n",
            "67 block3b_se_squeeze False\n",
            "68 block3b_se_reshape False\n",
            "69 block3b_se_reduce False\n",
            "70 block3b_se_expand False\n",
            "71 block3b_se_excite False\n",
            "72 block3b_project_conv False\n",
            "73 block3b_project_bn False\n",
            "74 block3b_drop False\n",
            "75 block3b_add False\n",
            "76 block4a_expand_conv False\n",
            "77 block4a_expand_bn False\n",
            "78 block4a_expand_activation False\n",
            "79 block4a_dwconv_pad False\n",
            "80 block4a_dwconv False\n",
            "81 block4a_bn False\n",
            "82 block4a_activation False\n",
            "83 block4a_se_squeeze False\n",
            "84 block4a_se_reshape False\n",
            "85 block4a_se_reduce False\n",
            "86 block4a_se_expand False\n",
            "87 block4a_se_excite False\n",
            "88 block4a_project_conv False\n",
            "89 block4a_project_bn False\n",
            "90 block4b_expand_conv False\n",
            "91 block4b_expand_bn False\n",
            "92 block4b_expand_activation False\n",
            "93 block4b_dwconv False\n",
            "94 block4b_bn False\n",
            "95 block4b_activation False\n",
            "96 block4b_se_squeeze False\n",
            "97 block4b_se_reshape False\n",
            "98 block4b_se_reduce False\n",
            "99 block4b_se_expand False\n",
            "100 block4b_se_excite False\n",
            "101 block4b_project_conv False\n",
            "102 block4b_project_bn False\n",
            "103 block4b_drop False\n",
            "104 block4b_add False\n",
            "105 block4c_expand_conv False\n",
            "106 block4c_expand_bn False\n",
            "107 block4c_expand_activation False\n",
            "108 block4c_dwconv False\n",
            "109 block4c_bn False\n",
            "110 block4c_activation False\n",
            "111 block4c_se_squeeze False\n",
            "112 block4c_se_reshape False\n",
            "113 block4c_se_reduce False\n",
            "114 block4c_se_expand False\n",
            "115 block4c_se_excite False\n",
            "116 block4c_project_conv False\n",
            "117 block4c_project_bn False\n",
            "118 block4c_drop False\n",
            "119 block4c_add False\n",
            "120 block5a_expand_conv False\n",
            "121 block5a_expand_bn False\n",
            "122 block5a_expand_activation False\n",
            "123 block5a_dwconv False\n",
            "124 block5a_bn False\n",
            "125 block5a_activation False\n",
            "126 block5a_se_squeeze False\n",
            "127 block5a_se_reshape False\n",
            "128 block5a_se_reduce False\n",
            "129 block5a_se_expand False\n",
            "130 block5a_se_excite False\n",
            "131 block5a_project_conv False\n",
            "132 block5a_project_bn False\n",
            "133 block5b_expand_conv False\n",
            "134 block5b_expand_bn False\n",
            "135 block5b_expand_activation False\n",
            "136 block5b_dwconv False\n",
            "137 block5b_bn False\n",
            "138 block5b_activation False\n",
            "139 block5b_se_squeeze False\n",
            "140 block5b_se_reshape False\n",
            "141 block5b_se_reduce False\n",
            "142 block5b_se_expand False\n",
            "143 block5b_se_excite False\n",
            "144 block5b_project_conv False\n",
            "145 block5b_project_bn False\n",
            "146 block5b_drop False\n",
            "147 block5b_add False\n",
            "148 block5c_expand_conv False\n",
            "149 block5c_expand_bn False\n",
            "150 block5c_expand_activation False\n",
            "151 block5c_dwconv False\n",
            "152 block5c_bn False\n",
            "153 block5c_activation False\n",
            "154 block5c_se_squeeze False\n",
            "155 block5c_se_reshape False\n",
            "156 block5c_se_reduce False\n",
            "157 block5c_se_expand False\n",
            "158 block5c_se_excite False\n",
            "159 block5c_project_conv False\n",
            "160 block5c_project_bn False\n",
            "161 block5c_drop False\n",
            "162 block5c_add False\n",
            "163 block6a_expand_conv False\n",
            "164 block6a_expand_bn False\n",
            "165 block6a_expand_activation False\n",
            "166 block6a_dwconv_pad False\n",
            "167 block6a_dwconv False\n",
            "168 block6a_bn False\n",
            "169 block6a_activation False\n",
            "170 block6a_se_squeeze False\n",
            "171 block6a_se_reshape False\n",
            "172 block6a_se_reduce False\n",
            "173 block6a_se_expand False\n",
            "174 block6a_se_excite False\n",
            "175 block6a_project_conv False\n",
            "176 block6a_project_bn False\n",
            "177 block6b_expand_conv False\n",
            "178 block6b_expand_bn False\n",
            "179 block6b_expand_activation False\n",
            "180 block6b_dwconv False\n",
            "181 block6b_bn False\n",
            "182 block6b_activation False\n",
            "183 block6b_se_squeeze False\n",
            "184 block6b_se_reshape False\n",
            "185 block6b_se_reduce False\n",
            "186 block6b_se_expand False\n",
            "187 block6b_se_excite False\n",
            "188 block6b_project_conv False\n",
            "189 block6b_project_bn False\n",
            "190 block6b_drop False\n",
            "191 block6b_add False\n",
            "192 block6c_expand_conv False\n",
            "193 block6c_expand_bn False\n",
            "194 block6c_expand_activation False\n",
            "195 block6c_dwconv False\n",
            "196 block6c_bn False\n",
            "197 block6c_activation False\n",
            "198 block6c_se_squeeze False\n",
            "199 block6c_se_reshape False\n",
            "200 block6c_se_reduce False\n",
            "201 block6c_se_expand False\n",
            "202 block6c_se_excite False\n",
            "203 block6c_project_conv False\n",
            "204 block6c_project_bn False\n",
            "205 block6c_drop False\n",
            "206 block6c_add False\n",
            "207 block6d_expand_conv False\n",
            "208 block6d_expand_bn False\n",
            "209 block6d_expand_activation False\n",
            "210 block6d_dwconv False\n",
            "211 block6d_bn False\n",
            "212 block6d_activation False\n",
            "213 block6d_se_squeeze False\n",
            "214 block6d_se_reshape False\n",
            "215 block6d_se_reduce False\n",
            "216 block6d_se_expand False\n",
            "217 block6d_se_excite False\n",
            "218 block6d_project_conv False\n",
            "219 block6d_project_bn False\n",
            "220 block6d_drop False\n",
            "221 block6d_add False\n",
            "222 block7a_expand_conv False\n",
            "223 block7a_expand_bn False\n",
            "224 block7a_expand_activation False\n",
            "225 block7a_dwconv False\n",
            "226 block7a_bn False\n",
            "227 block7a_activation False\n",
            "228 block7a_se_squeeze True\n",
            "229 block7a_se_reshape True\n",
            "230 block7a_se_reduce True\n",
            "231 block7a_se_expand True\n",
            "232 block7a_se_excite True\n",
            "233 block7a_project_conv True\n",
            "234 block7a_project_bn True\n",
            "235 top_conv True\n",
            "236 top_bn True\n",
            "237 top_activation True\n"
          ]
        }
      ]
    },
    {
      "cell_type": "code",
      "source": [
        "fine_tune_epochs = 5 + 5\n",
        "model_2.fit(train_data_10_percent,epochs = fine_tune_epochs,validation_data = test_data,validation_steps = int(0.25 * len(test_data)),initial_epoch = history_10_percent_data_aug.epoch[-1],callbacks = [create_tensorboard_callback(dir_name=\"transfer_learning\",experiment_name=\"10_percent_fine_tune_last_10\")])"
      ],
      "metadata": {
        "colab": {
          "base_uri": "https://localhost:8080/"
        },
        "id": "pBo7fBgp8eQP",
        "outputId": "3e231aaa-8bc5-439b-b2e7-7b75094bd4f3"
      },
      "execution_count": 106,
      "outputs": [
        {
          "output_type": "stream",
          "name": "stdout",
          "text": [
            "Saving TensorBoard log files to: transfer_learning/10_percent_fine_tune_last_10/20240204-095030\n",
            "Epoch 5/10\n",
            "24/24 [==============================] - 180s 7s/step - loss: 0.7410 - accuracy: 0.7507 - val_loss: 0.4234 - val_accuracy: 0.8586\n",
            "Epoch 6/10\n",
            "24/24 [==============================] - 169s 7s/step - loss: 0.3271 - accuracy: 0.8920 - val_loss: 0.3885 - val_accuracy: 0.8635\n",
            "Epoch 7/10\n",
            "24/24 [==============================] - 148s 6s/step - loss: 0.2361 - accuracy: 0.9213 - val_loss: 0.4057 - val_accuracy: 0.8684\n",
            "Epoch 8/10\n",
            "24/24 [==============================] - 110s 5s/step - loss: 0.1918 - accuracy: 0.9467 - val_loss: 0.4354 - val_accuracy: 0.8602\n",
            "Epoch 9/10\n",
            "24/24 [==============================] - 107s 5s/step - loss: 0.1149 - accuracy: 0.9667 - val_loss: 0.4444 - val_accuracy: 0.8618\n",
            "Epoch 10/10\n",
            "24/24 [==============================] - 143s 6s/step - loss: 0.1071 - accuracy: 0.9707 - val_loss: 0.4742 - val_accuracy: 0.8553\n"
          ]
        },
        {
          "output_type": "execute_result",
          "data": {
            "text/plain": [
              "<keras.src.callbacks.History at 0x7c293ae38400>"
            ]
          },
          "metadata": {},
          "execution_count": 106
        }
      ]
    },
    {
      "cell_type": "code",
      "source": [
        "#evaluate the fine-tune (model_3 which is actually model_3 fine tuned)\n",
        "model_2.evaluate(test_data)"
      ],
      "metadata": {
        "id": "ouK7EdTgSDZJ",
        "outputId": "3b6add25-e570-427e-999e-548f3d145877",
        "colab": {
          "base_uri": "https://localhost:8080/"
        }
      },
      "execution_count": 107,
      "outputs": [
        {
          "output_type": "stream",
          "name": "stdout",
          "text": [
            "79/79 [==============================] - 190s 2s/step - loss: 0.4408 - accuracy: 0.8644\n"
          ]
        },
        {
          "output_type": "execute_result",
          "data": {
            "text/plain": [
              "[0.4408226013183594, 0.8644000291824341]"
            ]
          },
          "metadata": {},
          "execution_count": 107
        }
      ]
    },
    {
      "cell_type": "code",
      "source": [
        "plot_loss_curves(model_2.history)"
      ],
      "metadata": {
        "id": "9rUT0H4PSDeO",
        "outputId": "337ee082-ad1d-4cbd-97a1-ceb3be12f046",
        "colab": {
          "base_uri": "https://localhost:8080/",
          "height": 297
        }
      },
      "execution_count": 108,
      "outputs": [
        {
          "output_type": "error",
          "ename": "KeyError",
          "evalue": "'loss'",
          "traceback": [
            "\u001b[0;31m---------------------------------------------------------------------------\u001b[0m",
            "\u001b[0;31mKeyError\u001b[0m                                  Traceback (most recent call last)",
            "\u001b[0;32m<ipython-input-108-a9ef1d277b3b>\u001b[0m in \u001b[0;36m<cell line: 1>\u001b[0;34m()\u001b[0m\n\u001b[0;32m----> 1\u001b[0;31m \u001b[0mplot_loss_curves\u001b[0m\u001b[0;34m(\u001b[0m\u001b[0mmodel_2\u001b[0m\u001b[0;34m.\u001b[0m\u001b[0mhistory\u001b[0m\u001b[0;34m)\u001b[0m\u001b[0;34m\u001b[0m\u001b[0;34m\u001b[0m\u001b[0m\n\u001b[0m",
            "\u001b[0;32m/content/helper_functions.py\u001b[0m in \u001b[0;36mplot_loss_curves\u001b[0;34m(history)\u001b[0m\n\u001b[1;32m    163\u001b[0m     \u001b[0mhistory\u001b[0m\u001b[0;34m:\u001b[0m \u001b[0mTensorFlow\u001b[0m \u001b[0mmodel\u001b[0m \u001b[0mHistory\u001b[0m \u001b[0mobject\u001b[0m \u001b[0;34m(\u001b[0m\u001b[0msee\u001b[0m\u001b[0;34m:\u001b[0m \u001b[0mhttps\u001b[0m\u001b[0;34m:\u001b[0m\u001b[0;34m//\u001b[0m\u001b[0mwww\u001b[0m\u001b[0;34m.\u001b[0m\u001b[0mtensorflow\u001b[0m\u001b[0;34m.\u001b[0m\u001b[0morg\u001b[0m\u001b[0;34m/\u001b[0m\u001b[0mapi_docs\u001b[0m\u001b[0;34m/\u001b[0m\u001b[0mpython\u001b[0m\u001b[0;34m/\u001b[0m\u001b[0mtf\u001b[0m\u001b[0;34m/\u001b[0m\u001b[0mkeras\u001b[0m\u001b[0;34m/\u001b[0m\u001b[0mcallbacks\u001b[0m\u001b[0;34m/\u001b[0m\u001b[0mHistory\u001b[0m\u001b[0;34m)\u001b[0m\u001b[0;34m\u001b[0m\u001b[0;34m\u001b[0m\u001b[0m\n\u001b[1;32m    164\u001b[0m   \"\"\" \n\u001b[0;32m--> 165\u001b[0;31m   \u001b[0mloss\u001b[0m \u001b[0;34m=\u001b[0m \u001b[0mhistory\u001b[0m\u001b[0;34m.\u001b[0m\u001b[0mhistory\u001b[0m\u001b[0;34m[\u001b[0m\u001b[0;34m'loss'\u001b[0m\u001b[0;34m]\u001b[0m\u001b[0;34m\u001b[0m\u001b[0;34m\u001b[0m\u001b[0m\n\u001b[0m\u001b[1;32m    166\u001b[0m   \u001b[0mval_loss\u001b[0m \u001b[0;34m=\u001b[0m \u001b[0mhistory\u001b[0m\u001b[0;34m.\u001b[0m\u001b[0mhistory\u001b[0m\u001b[0;34m[\u001b[0m\u001b[0;34m'val_loss'\u001b[0m\u001b[0;34m]\u001b[0m\u001b[0;34m\u001b[0m\u001b[0;34m\u001b[0m\u001b[0m\n\u001b[1;32m    167\u001b[0m \u001b[0;34m\u001b[0m\u001b[0m\n",
            "\u001b[0;31mKeyError\u001b[0m: 'loss'"
          ]
        }
      ]
    },
    {
      "cell_type": "code",
      "source": [
        "#lets create a function 'plot loss curves ' function"
      ],
      "metadata": {
        "id": "RBv9Vck3SDgr"
      },
      "execution_count": null,
      "outputs": []
    },
    {
      "cell_type": "code",
      "source": [
        "def compare_history(original_history,new_history,initial_epochs=5):\n",
        "  acc = original_history.history[\"accuracy\"]\n",
        "  loss = original_history.history[\"loss\"]\n",
        "\n",
        "  val_acc = original_history.history[\"val_accuracy\"]\n",
        "  val_loss = original_history.history[\"val_loss\"]\n",
        "\n",
        "  total_acc = acc + new_history.history[\"accuracy\"]\n",
        "  total_loss = loss + new_history.history[\"loss\"]\n",
        "\n",
        "  total_val_acc = val_acc + new_history.history[\"val_accuracy\"]\n",
        "  total_val_loss = val_loss + new_history.history[\"val_loss\"]\n",
        "\n",
        "  plt.figure(figsize=(8,8))\n",
        "  plt.subplot(2,1,1)\n",
        "  plt.plot(total_acc,label=\"Training Accuracy\")\n",
        "  plt.plot(total_val_acc,label=\"Val Accuracy\")\n",
        "  plt.plot([initial_epochs-1,initial_epocchs-1],plt.ylim(),label=\"Start Fine Tunig\")\n",
        "  plt.plot(loc=\"lower right\")\n",
        "  plt.title(\"Training and Validation Accuracy\")\n",
        "\n"
      ],
      "metadata": {
        "id": "e4v61Kp7SDjp"
      },
      "execution_count": 109,
      "outputs": []
    },
    {
      "cell_type": "code",
      "source": [
        "compare_history(history_10_percent_data_aug,model_2.history,initial_epochs=5)"
      ],
      "metadata": {
        "id": "3muD_XzMSDnO",
        "outputId": "553b24c4-c152-4372-8361-e1f320da3754",
        "colab": {
          "base_uri": "https://localhost:8080/",
          "height": 297
        }
      },
      "execution_count": 110,
      "outputs": [
        {
          "output_type": "error",
          "ename": "KeyError",
          "evalue": "'accuracy'",
          "traceback": [
            "\u001b[0;31m---------------------------------------------------------------------------\u001b[0m",
            "\u001b[0;31mKeyError\u001b[0m                                  Traceback (most recent call last)",
            "\u001b[0;32m<ipython-input-110-c6871c7e61ae>\u001b[0m in \u001b[0;36m<cell line: 1>\u001b[0;34m()\u001b[0m\n\u001b[0;32m----> 1\u001b[0;31m \u001b[0mcompare_history\u001b[0m\u001b[0;34m(\u001b[0m\u001b[0mhistory_10_percent_data_aug\u001b[0m\u001b[0;34m,\u001b[0m\u001b[0mmodel_2\u001b[0m\u001b[0;34m.\u001b[0m\u001b[0mhistory\u001b[0m\u001b[0;34m,\u001b[0m\u001b[0minitial_epochs\u001b[0m\u001b[0;34m=\u001b[0m\u001b[0;36m5\u001b[0m\u001b[0;34m)\u001b[0m\u001b[0;34m\u001b[0m\u001b[0;34m\u001b[0m\u001b[0m\n\u001b[0m",
            "\u001b[0;32m<ipython-input-109-051357a085f9>\u001b[0m in \u001b[0;36mcompare_history\u001b[0;34m(original_history, new_history, initial_epochs)\u001b[0m\n\u001b[1;32m      6\u001b[0m   \u001b[0mval_loss\u001b[0m \u001b[0;34m=\u001b[0m \u001b[0moriginal_history\u001b[0m\u001b[0;34m.\u001b[0m\u001b[0mhistory\u001b[0m\u001b[0;34m[\u001b[0m\u001b[0;34m\"val_loss\"\u001b[0m\u001b[0;34m]\u001b[0m\u001b[0;34m\u001b[0m\u001b[0;34m\u001b[0m\u001b[0m\n\u001b[1;32m      7\u001b[0m \u001b[0;34m\u001b[0m\u001b[0m\n\u001b[0;32m----> 8\u001b[0;31m   \u001b[0mtotal_acc\u001b[0m \u001b[0;34m=\u001b[0m \u001b[0macc\u001b[0m \u001b[0;34m+\u001b[0m \u001b[0mnew_history\u001b[0m\u001b[0;34m.\u001b[0m\u001b[0mhistory\u001b[0m\u001b[0;34m[\u001b[0m\u001b[0;34m\"accuracy\"\u001b[0m\u001b[0;34m]\u001b[0m\u001b[0;34m\u001b[0m\u001b[0;34m\u001b[0m\u001b[0m\n\u001b[0m\u001b[1;32m      9\u001b[0m   \u001b[0mtotal_loss\u001b[0m \u001b[0;34m=\u001b[0m \u001b[0mloss\u001b[0m \u001b[0;34m+\u001b[0m \u001b[0mnew_history\u001b[0m\u001b[0;34m.\u001b[0m\u001b[0mhistory\u001b[0m\u001b[0;34m[\u001b[0m\u001b[0;34m\"loss\"\u001b[0m\u001b[0;34m]\u001b[0m\u001b[0;34m\u001b[0m\u001b[0;34m\u001b[0m\u001b[0m\n\u001b[1;32m     10\u001b[0m \u001b[0;34m\u001b[0m\u001b[0m\n",
            "\u001b[0;31mKeyError\u001b[0m: 'accuracy'"
          ]
        }
      ]
    },
    {
      "cell_type": "code",
      "source": [],
      "metadata": {
        "id": "dQLyxZp3XBfR"
      },
      "execution_count": null,
      "outputs": []
    },
    {
      "cell_type": "markdown",
      "source": [
        "MODEL 4"
      ],
      "metadata": {
        "id": "rg-FOP5_XaYF"
      }
    },
    {
      "cell_type": "code",
      "source": [
        "# Download and unzip 10 classes of data with all images\n",
        "!wget https://storage.googleapis.com/ztm_tf_course/food_vision/10_food_classes_all_data.zip\n",
        "unzip_data(\"10_food_classes_all_data.zip\")\n",
        "\n",
        "# Setup data directories\n",
        "train_dir = \"10_food_classes_all_data/train/\"\n",
        "test_dir = \"10_food_classes_all_data/test/\""
      ],
      "metadata": {
        "id": "-9xi5v7mXp4C",
        "outputId": "731929d4-aa14-4373-af6b-65cd37f9f1bf",
        "colab": {
          "base_uri": "https://localhost:8080/"
        }
      },
      "execution_count": 111,
      "outputs": [
        {
          "output_type": "stream",
          "name": "stdout",
          "text": [
            "--2024-02-04 11:01:08--  https://storage.googleapis.com/ztm_tf_course/food_vision/10_food_classes_all_data.zip\n",
            "Resolving storage.googleapis.com (storage.googleapis.com)... 74.125.134.207, 74.125.139.207, 74.125.141.207, ...\n",
            "Connecting to storage.googleapis.com (storage.googleapis.com)|74.125.134.207|:443... connected.\n",
            "HTTP request sent, awaiting response... 200 OK\n",
            "Length: 519183241 (495M) [application/zip]\n",
            "Saving to: ‘10_food_classes_all_data.zip’\n",
            "\n",
            "10_food_classes_all 100%[===================>] 495.13M  40.5MB/s    in 11s     \n",
            "\n",
            "2024-02-04 11:01:19 (46.3 MB/s) - ‘10_food_classes_all_data.zip’ saved [519183241/519183241]\n",
            "\n"
          ]
        }
      ]
    },
    {
      "cell_type": "code",
      "source": [
        "IMG_SIZE = (224,224)\n",
        "import tensorflow as tf\n",
        "IMG_SIZE = (224, 224)\n",
        "train_data_10_classes_full = tf.keras.preprocessing.image_dataset_from_directory(train_dir,\n",
        "                                                                                 label_mode=\"categorical\",\n",
        "                                                                                 image_size=IMG_SIZE)\n",
        "\n",
        "# Note: this is the same test dataset we've been using for the previous modelling experiments\n",
        "test_data = tf.keras.preprocessing.image_dataset_from_directory(test_dir,\n",
        "                                                                label_mode=\"categorical\",\n",
        "                                                                image_size=IMG_SIZE)"
      ],
      "metadata": {
        "id": "NHK9z83fYAzr",
        "outputId": "78c431b9-4917-44c1-8c87-e655f31baf8a",
        "colab": {
          "base_uri": "https://localhost:8080/"
        }
      },
      "execution_count": 114,
      "outputs": [
        {
          "output_type": "stream",
          "name": "stdout",
          "text": [
            "Found 7500 files belonging to 10 classes.\n",
            "Found 2500 files belonging to 10 classes.\n"
          ]
        }
      ]
    },
    {
      "cell_type": "code",
      "source": [
        "#evaluate the model2\n",
        "\n",
        "model_2.evaluate(test_data)"
      ],
      "metadata": {
        "id": "qXEt7aOsYA4E",
        "outputId": "a59abe4f-70cb-4d80-e718-17fa7fe21a51",
        "colab": {
          "base_uri": "https://localhost:8080/"
        }
      },
      "execution_count": 115,
      "outputs": [
        {
          "output_type": "stream",
          "name": "stdout",
          "text": [
            "79/79 [==============================] - 215s 3s/step - loss: 0.4408 - accuracy: 0.8644\n"
          ]
        },
        {
          "output_type": "execute_result",
          "data": {
            "text/plain": [
              "[0.440822571516037, 0.8644000291824341]"
            ]
          },
          "metadata": {},
          "execution_count": 115
        }
      ]
    },
    {
      "cell_type": "code",
      "source": [
        "model_2.weights[0].shape"
      ],
      "metadata": {
        "id": "-YFKu_hj-IfB",
        "outputId": "6e085bef-c99b-4c35-af74-6bccfb7806d6",
        "colab": {
          "base_uri": "https://localhost:8080/"
        }
      },
      "execution_count": 120,
      "outputs": [
        {
          "output_type": "execute_result",
          "data": {
            "text/plain": [
              "TensorShape([3])"
            ]
          },
          "metadata": {},
          "execution_count": 120
        }
      ]
    },
    {
      "cell_type": "code",
      "source": [
        "tf.io.read_file(checkpoint_path).shape"
      ],
      "metadata": {
        "id": "RMwpuCom-DDy",
        "outputId": "9f22e37f-5c93-445e-e362-728dc41673e1",
        "colab": {
          "base_uri": "https://localhost:8080/",
          "height": 338
        }
      },
      "execution_count": 119,
      "outputs": [
        {
          "output_type": "error",
          "ename": "FailedPreconditionError",
          "evalue": "{{function_node __wrapped__ReadFile_device_/job:localhost/replica:0/task:0/device:CPU:0}} ten_percent_model_checkpointswights/checkpoint.ckpt; Is a directory [Op:ReadFile]",
          "traceback": [
            "\u001b[0;31m---------------------------------------------------------------------------\u001b[0m",
            "\u001b[0;31mFailedPreconditionError\u001b[0m                   Traceback (most recent call last)",
            "\u001b[0;32m<ipython-input-119-9825a61625d9>\u001b[0m in \u001b[0;36m<cell line: 1>\u001b[0;34m()\u001b[0m\n\u001b[0;32m----> 1\u001b[0;31m \u001b[0mtf\u001b[0m\u001b[0;34m.\u001b[0m\u001b[0mio\u001b[0m\u001b[0;34m.\u001b[0m\u001b[0mread_file\u001b[0m\u001b[0;34m(\u001b[0m\u001b[0mcheckpoint_path\u001b[0m\u001b[0;34m)\u001b[0m\u001b[0;34m.\u001b[0m\u001b[0mshape\u001b[0m\u001b[0;34m\u001b[0m\u001b[0;34m\u001b[0m\u001b[0m\n\u001b[0m",
            "\u001b[0;32m/usr/local/lib/python3.10/dist-packages/tensorflow/python/ops/io_ops.py\u001b[0m in \u001b[0;36mread_file\u001b[0;34m(filename, name)\u001b[0m\n\u001b[1;32m    132\u001b[0m     \u001b[0mA\u001b[0m \u001b[0mtensor\u001b[0m \u001b[0mof\u001b[0m \u001b[0mdtype\u001b[0m \u001b[0;34m\"string\"\u001b[0m\u001b[0;34m,\u001b[0m \u001b[0;32mwith\u001b[0m \u001b[0mthe\u001b[0m \u001b[0mfile\u001b[0m \u001b[0mcontents\u001b[0m\u001b[0;34m.\u001b[0m\u001b[0;34m\u001b[0m\u001b[0;34m\u001b[0m\u001b[0m\n\u001b[1;32m    133\u001b[0m   \"\"\"\n\u001b[0;32m--> 134\u001b[0;31m   \u001b[0;32mreturn\u001b[0m \u001b[0mgen_io_ops\u001b[0m\u001b[0;34m.\u001b[0m\u001b[0mread_file\u001b[0m\u001b[0;34m(\u001b[0m\u001b[0mfilename\u001b[0m\u001b[0;34m,\u001b[0m \u001b[0mname\u001b[0m\u001b[0;34m)\u001b[0m\u001b[0;34m\u001b[0m\u001b[0;34m\u001b[0m\u001b[0m\n\u001b[0m\u001b[1;32m    135\u001b[0m \u001b[0;34m\u001b[0m\u001b[0m\n\u001b[1;32m    136\u001b[0m \u001b[0;34m\u001b[0m\u001b[0m\n",
            "\u001b[0;32m/usr/local/lib/python3.10/dist-packages/tensorflow/python/ops/gen_io_ops.py\u001b[0m in \u001b[0;36mread_file\u001b[0;34m(filename, name)\u001b[0m\n\u001b[1;32m    581\u001b[0m       \u001b[0;32mpass\u001b[0m\u001b[0;34m\u001b[0m\u001b[0;34m\u001b[0m\u001b[0m\n\u001b[1;32m    582\u001b[0m     \u001b[0;32mtry\u001b[0m\u001b[0;34m:\u001b[0m\u001b[0;34m\u001b[0m\u001b[0;34m\u001b[0m\u001b[0m\n\u001b[0;32m--> 583\u001b[0;31m       return read_file_eager_fallback(\n\u001b[0m\u001b[1;32m    584\u001b[0m           filename, name=name, ctx=_ctx)\n\u001b[1;32m    585\u001b[0m     \u001b[0;32mexcept\u001b[0m \u001b[0m_core\u001b[0m\u001b[0;34m.\u001b[0m\u001b[0m_SymbolicException\u001b[0m\u001b[0;34m:\u001b[0m\u001b[0;34m\u001b[0m\u001b[0;34m\u001b[0m\u001b[0m\n",
            "\u001b[0;32m/usr/local/lib/python3.10/dist-packages/tensorflow/python/ops/gen_io_ops.py\u001b[0m in \u001b[0;36mread_file_eager_fallback\u001b[0;34m(filename, name, ctx)\u001b[0m\n\u001b[1;32m    604\u001b[0m   \u001b[0m_inputs_flat\u001b[0m \u001b[0;34m=\u001b[0m \u001b[0;34m[\u001b[0m\u001b[0mfilename\u001b[0m\u001b[0;34m]\u001b[0m\u001b[0;34m\u001b[0m\u001b[0;34m\u001b[0m\u001b[0m\n\u001b[1;32m    605\u001b[0m   \u001b[0m_attrs\u001b[0m \u001b[0;34m=\u001b[0m \u001b[0;32mNone\u001b[0m\u001b[0;34m\u001b[0m\u001b[0;34m\u001b[0m\u001b[0m\n\u001b[0;32m--> 606\u001b[0;31m   _result = _execute.execute(b\"ReadFile\", 1, inputs=_inputs_flat,\n\u001b[0m\u001b[1;32m    607\u001b[0m                              attrs=_attrs, ctx=ctx, name=name)\n\u001b[1;32m    608\u001b[0m   \u001b[0;32mif\u001b[0m \u001b[0m_execute\u001b[0m\u001b[0;34m.\u001b[0m\u001b[0mmust_record_gradient\u001b[0m\u001b[0;34m(\u001b[0m\u001b[0;34m)\u001b[0m\u001b[0;34m:\u001b[0m\u001b[0;34m\u001b[0m\u001b[0;34m\u001b[0m\u001b[0m\n",
            "\u001b[0;32m/usr/local/lib/python3.10/dist-packages/tensorflow/python/eager/execute.py\u001b[0m in \u001b[0;36mquick_execute\u001b[0;34m(op_name, num_outputs, inputs, attrs, ctx, name)\u001b[0m\n\u001b[1;32m     51\u001b[0m   \u001b[0;32mtry\u001b[0m\u001b[0;34m:\u001b[0m\u001b[0;34m\u001b[0m\u001b[0;34m\u001b[0m\u001b[0m\n\u001b[1;32m     52\u001b[0m     \u001b[0mctx\u001b[0m\u001b[0;34m.\u001b[0m\u001b[0mensure_initialized\u001b[0m\u001b[0;34m(\u001b[0m\u001b[0;34m)\u001b[0m\u001b[0;34m\u001b[0m\u001b[0;34m\u001b[0m\u001b[0m\n\u001b[0;32m---> 53\u001b[0;31m     tensors = pywrap_tfe.TFE_Py_Execute(ctx._handle, device_name, op_name,\n\u001b[0m\u001b[1;32m     54\u001b[0m                                         inputs, attrs, num_outputs)\n\u001b[1;32m     55\u001b[0m   \u001b[0;32mexcept\u001b[0m \u001b[0mcore\u001b[0m\u001b[0;34m.\u001b[0m\u001b[0m_NotOkStatusException\u001b[0m \u001b[0;32mas\u001b[0m \u001b[0me\u001b[0m\u001b[0;34m:\u001b[0m\u001b[0;34m\u001b[0m\u001b[0;34m\u001b[0m\u001b[0m\n",
            "\u001b[0;31mFailedPreconditionError\u001b[0m: {{function_node __wrapped__ReadFile_device_/job:localhost/replica:0/task:0/device:CPU:0}} ten_percent_model_checkpointswights/checkpoint.ckpt; Is a directory [Op:ReadFile]"
          ]
        }
      ]
    },
    {
      "cell_type": "code",
      "source": [
        "model_2.load_weights(checkpoint_path,by_name=True,skip_mismatch=True)"
      ],
      "metadata": {
        "id": "9tSCkor2YA7g",
        "outputId": "b41cc3ba-1121-4e8b-e31b-eeb6b3d2dc3b",
        "colab": {
          "base_uri": "https://localhost:8080/",
          "height": 338
        }
      },
      "execution_count": 121,
      "outputs": [
        {
          "output_type": "error",
          "ename": "ValueError",
          "evalue": "Received incompatible tensor with shape (1280, 10) when attempting to restore variable with shape (1, 1, 1152, 48) and name Adam/m/block7a_se_reduce/kernel:0.",
          "traceback": [
            "\u001b[0;31m---------------------------------------------------------------------------\u001b[0m",
            "\u001b[0;31mValueError\u001b[0m                                Traceback (most recent call last)",
            "\u001b[0;32m<ipython-input-121-9acabb11c066>\u001b[0m in \u001b[0;36m<cell line: 1>\u001b[0;34m()\u001b[0m\n\u001b[0;32m----> 1\u001b[0;31m \u001b[0mmodel_2\u001b[0m\u001b[0;34m.\u001b[0m\u001b[0mload_weights\u001b[0m\u001b[0;34m(\u001b[0m\u001b[0mcheckpoint_path\u001b[0m\u001b[0;34m,\u001b[0m\u001b[0mby_name\u001b[0m\u001b[0;34m=\u001b[0m\u001b[0;32mTrue\u001b[0m\u001b[0;34m,\u001b[0m\u001b[0mskip_mismatch\u001b[0m\u001b[0;34m=\u001b[0m\u001b[0;32mTrue\u001b[0m\u001b[0;34m)\u001b[0m\u001b[0;34m\u001b[0m\u001b[0;34m\u001b[0m\u001b[0m\n\u001b[0m",
            "\u001b[0;32m/usr/local/lib/python3.10/dist-packages/keras/src/utils/traceback_utils.py\u001b[0m in \u001b[0;36merror_handler\u001b[0;34m(*args, **kwargs)\u001b[0m\n\u001b[1;32m     68\u001b[0m             \u001b[0;31m# To get the full stack trace, call:\u001b[0m\u001b[0;34m\u001b[0m\u001b[0;34m\u001b[0m\u001b[0m\n\u001b[1;32m     69\u001b[0m             \u001b[0;31m# `tf.debugging.disable_traceback_filtering()`\u001b[0m\u001b[0;34m\u001b[0m\u001b[0;34m\u001b[0m\u001b[0m\n\u001b[0;32m---> 70\u001b[0;31m             \u001b[0;32mraise\u001b[0m \u001b[0me\u001b[0m\u001b[0;34m.\u001b[0m\u001b[0mwith_traceback\u001b[0m\u001b[0;34m(\u001b[0m\u001b[0mfiltered_tb\u001b[0m\u001b[0;34m)\u001b[0m \u001b[0;32mfrom\u001b[0m \u001b[0;32mNone\u001b[0m\u001b[0;34m\u001b[0m\u001b[0;34m\u001b[0m\u001b[0m\n\u001b[0m\u001b[1;32m     71\u001b[0m         \u001b[0;32mfinally\u001b[0m\u001b[0;34m:\u001b[0m\u001b[0;34m\u001b[0m\u001b[0;34m\u001b[0m\u001b[0m\n\u001b[1;32m     72\u001b[0m             \u001b[0;32mdel\u001b[0m \u001b[0mfiltered_tb\u001b[0m\u001b[0;34m\u001b[0m\u001b[0;34m\u001b[0m\u001b[0m\n",
            "\u001b[0;32m/usr/local/lib/python3.10/dist-packages/tensorflow/python/ops/resource_variable_ops.py\u001b[0m in \u001b[0;36m_restore_from_tensors\u001b[0;34m(self, restored_tensors)\u001b[0m\n\u001b[1;32m    783\u001b[0m             self.handle, self.shape, restored_tensor)\n\u001b[1;32m    784\u001b[0m       \u001b[0;32mexcept\u001b[0m \u001b[0mValueError\u001b[0m \u001b[0;32mas\u001b[0m \u001b[0me\u001b[0m\u001b[0;34m:\u001b[0m\u001b[0;34m\u001b[0m\u001b[0;34m\u001b[0m\u001b[0m\n\u001b[0;32m--> 785\u001b[0;31m         raise ValueError(\n\u001b[0m\u001b[1;32m    786\u001b[0m             \u001b[0;34mf\"Received incompatible tensor with shape {restored_tensor.shape} \"\u001b[0m\u001b[0;34m\u001b[0m\u001b[0;34m\u001b[0m\u001b[0m\n\u001b[1;32m    787\u001b[0m             \u001b[0;34mf\"when attempting to restore variable with shape {self.shape} \"\u001b[0m\u001b[0;34m\u001b[0m\u001b[0;34m\u001b[0m\u001b[0m\n",
            "\u001b[0;31mValueError\u001b[0m: Received incompatible tensor with shape (1280, 10) when attempting to restore variable with shape (1, 1, 1152, 48) and name Adam/m/block7a_se_reduce/kernel:0."
          ]
        }
      ]
    },
    {
      "cell_type": "code",
      "source": [
        "for layer_number,layer in enumerate(model_2.layers):\n",
        "  print(layer_number,layer.name,layer.trainable)\n"
      ],
      "metadata": {
        "id": "VSCOt92bc5jb",
        "outputId": "a4a7e983-3f21-4879-8013-1537838e3202",
        "colab": {
          "base_uri": "https://localhost:8080/"
        }
      },
      "execution_count": 122,
      "outputs": [
        {
          "output_type": "stream",
          "name": "stdout",
          "text": [
            "0 input_layer True\n",
            "1 data_augumentation True\n",
            "2 efficientnetb0 True\n",
            "3 global_average_pooling_2D True\n",
            "4 output_layer True\n"
          ]
        }
      ]
    },
    {
      "cell_type": "code",
      "source": [
        "model_2.compile(loss=\"categorical_crossentropy\",optimizer = tf.keras.optimizers.Adam(),metrics=[\"accuracy\"])"
      ],
      "metadata": {
        "id": "yXZ4_nHhgpkJ"
      },
      "execution_count": 124,
      "outputs": []
    },
    {
      "cell_type": "code",
      "source": [
        "fine_tune_epochs = 5 + 5\n",
        "\n",
        "history_fine_10_classes_full = model_2.fit(train_data_10_classes_full,epochs=10,validation_data = test_data,validation_steps= int(0.25 * len(test_data)),callbacks=[create_tensorboard_callback(dir_name=\"transfer_learning\",experiment_name =\"full_10_class_fine_tune_label\")])"
      ],
      "metadata": {
        "id": "f3fFEBkpiDqX",
        "outputId": "26943556-5c02-4e12-989d-fb11b22297f0",
        "colab": {
          "base_uri": "https://localhost:8080/"
        }
      },
      "execution_count": 125,
      "outputs": [
        {
          "output_type": "stream",
          "name": "stdout",
          "text": [
            "Saving TensorBoard log files to: transfer_learning/full_10_class_fine_tune_label/20240204-115535\n",
            "Epoch 1/10\n",
            "235/235 [==============================] - 757s 3s/step - loss: 0.5657 - accuracy: 0.8215 - val_loss: 0.2849 - val_accuracy: 0.9046\n",
            "Epoch 2/10\n",
            "235/235 [==============================] - 775s 3s/step - loss: 0.4002 - accuracy: 0.8708 - val_loss: 0.2364 - val_accuracy: 0.9178\n",
            "Epoch 3/10\n",
            "235/235 [==============================] - 654s 3s/step - loss: 0.3307 - accuracy: 0.8913 - val_loss: 0.2837 - val_accuracy: 0.8997\n",
            "Epoch 4/10\n",
            "235/235 [==============================] - 641s 3s/step - loss: 0.2539 - accuracy: 0.9152 - val_loss: 0.2411 - val_accuracy: 0.9211\n",
            "Epoch 5/10\n",
            "235/235 [==============================] - 637s 3s/step - loss: 0.2341 - accuracy: 0.9253 - val_loss: 0.2572 - val_accuracy: 0.9211\n",
            "Epoch 6/10\n",
            "235/235 [==============================] - 682s 3s/step - loss: 0.2007 - accuracy: 0.9289 - val_loss: 0.2850 - val_accuracy: 0.9178\n",
            "Epoch 7/10\n",
            "235/235 [==============================] - 675s 3s/step - loss: 0.1779 - accuracy: 0.9384 - val_loss: 0.3099 - val_accuracy: 0.9178\n",
            "Epoch 8/10\n",
            "235/235 [==============================] - 633s 3s/step - loss: 0.1634 - accuracy: 0.9455 - val_loss: 0.3289 - val_accuracy: 0.9062\n",
            "Epoch 9/10\n",
            "235/235 [==============================] - 650s 3s/step - loss: 0.1549 - accuracy: 0.9472 - val_loss: 0.2854 - val_accuracy: 0.9095\n",
            "Epoch 10/10\n",
            "235/235 [==============================] - 725s 3s/step - loss: 0.1278 - accuracy: 0.9592 - val_loss: 0.3458 - val_accuracy: 0.9128\n"
          ]
        }
      ]
    },
    {
      "cell_type": "code",
      "source": [
        "model_2.evaluate(test_data)"
      ],
      "metadata": {
        "id": "FdOGsb60il1y",
        "outputId": "8bfb852f-3d0e-43df-c36e-ea9600d24634",
        "colab": {
          "base_uri": "https://localhost:8080/"
        }
      },
      "execution_count": null,
      "outputs": [
        {
          "output_type": "stream",
          "name": "stdout",
          "text": [
            "12/79 [===>..........................] - ETA: 2:27 - loss: 0.3466 - accuracy: 0.9089"
          ]
        }
      ]
    },
    {
      "cell_type": "code",
      "source": [],
      "metadata": {
        "id": "JyTH8-n4U3Vg"
      },
      "execution_count": null,
      "outputs": []
    }
  ],
  "metadata": {
    "colab": {
      "provenance": [],
      "authorship_tag": "ABX9TyM49ThUV6GOlAtGsvp7HMJL",
      "include_colab_link": true
    },
    "kernelspec": {
      "display_name": "Python 3",
      "name": "python3"
    },
    "language_info": {
      "name": "python"
    }
  },
  "nbformat": 4,
  "nbformat_minor": 0
}